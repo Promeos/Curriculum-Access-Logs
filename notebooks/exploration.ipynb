{
 "cells": [
  {
   "cell_type": "markdown",
   "metadata": {},
   "source": [
    "# Exploratory Data Analysis\n",
    "\n",
    "1. Which lesson appears to attract the most traffic consistently across cohorts (per program)?\n",
    "2. Is there a cohort that referred to a lesson significantly more that other cohorts seemed to gloss over? \n",
    "3. Are there students who, when active, hardly access the curriculum? If so, what information do you have about these students? \n",
    "4. Is there any suspicious activity, such as users/machines/etc accessing the curriculum who shouldn’t be? Does it appear that any web-scraping is happening? Are there any suspicious IP addresses? Any odd user-agents? \n",
    "5. At some point in the last year, ability for students and alumni to cross-access curriculum (web dev to ds, ds to web dev) should have been shut off. Do you see any evidence of that happening? Did it happen before? \n",
    "6. What topics are grads continuing to reference after graduation and into their jobs (for each program)? \n",
    "7. Which lessons are least accessed? \n",
    "8. Anything else I should be aware of?\n"
   ]
  },
  {
   "cell_type": "code",
   "execution_count": 1,
   "metadata": {},
   "outputs": [],
   "source": [
    "# import libraries\n",
    "import pandas as pd\n",
    "import numpy as np\n",
    "import matplotlib.pyplot as plt\n",
    "import seaborn as sns\n",
    "from datetime import datetime\n",
    "from datetime import timedelta\n",
    "\n",
    "pd.options.display.max_columns = 15\n",
    "pd.options.display.max_rows = 50\n",
    "\n",
    "# import helper functions\n",
    "import main\n",
    "from acquire import get_log_data, get_cohort_data\n",
    "from prepare import prep_log_cohort_data\n",
    "\n",
    "# ignore warnings\n",
    "import warnings\n",
    "warnings.filterwarnings('ignore')"
   ]
  },
  {
   "cell_type": "code",
   "execution_count": 2,
   "metadata": {},
   "outputs": [],
   "source": [
    "df = prep_log_cohort_data(get_log_data(), get_cohort_data())"
   ]
  },
  {
   "cell_type": "code",
   "execution_count": 3,
   "metadata": {},
   "outputs": [],
   "source": [
    "df.head().sort_index(inplace=True)"
   ]
  },
  {
   "cell_type": "markdown",
   "metadata": {},
   "source": [
    "# 1. Which lesson appears to attract the most traffic consistently across cohorts (per program)?\n",
    "\n",
    "Approach to answer Question 1:\n",
    "1. Create separate datasets of Web Development Programs and Data Science Programs.\n",
    "\n",
    ">Web Development: `program_id` = 1, 2, 4\n",
    "> - 1 == 'Full Stack PHP'\n",
    "> - 2 == 'Full Stack Java'\n",
    "> - 4 == 'Front End'\n",
    "\n",
    ">Data Science: `program_id` = 3\n",
    "\n",
    "2. Remove common logistic pages in the curriculum e.g. '/'= Main Page), 'toc'= Table of Contents, etc.\n",
    "3. Use `.value_counts()` on `page_viewed` to see the most access pages of all time. Store the top 10 page names with page counts as a variable.\n",
    "4. Store the top 5 page names in a variable called `wd_top_5_pages` and `ds_top_5_pages`.\n",
    "\n"
   ]
  },
  {
   "cell_type": "code",
   "execution_count": 4,
   "metadata": {},
   "outputs": [],
   "source": [
    "# Remove staff from the analysis.\n",
    "df = df.loc[~(df.cohort_name == 'Staff')]\n",
    "\n",
    "# Step 1.\n",
    "# Web Devlopment Cohorts\n",
    "web_dev_cohorts = df.loc[df.program_id.isin([1, 2, 4])]\n",
    "\n",
    "# Data Science Cohorts\n",
    "ds_cohorts = df.loc[df.program_id == 3]"
   ]
  },
  {
   "cell_type": "code",
   "execution_count": 5,
   "metadata": {},
   "outputs": [],
   "source": [
    "# Step 2.\n",
    "# Create a variable to store pages to filter out.\n",
    "remove_pages = ['/', 'toc', 'appendix', 'index.html', 'search/search_index.json', 'mkdocs/search_index.json']\n",
    "\n",
    "# Clean page_viewed to remove logistic pages: Searches, Table of Contents, Appendix\n",
    "web_dev_cohorts = web_dev_cohorts.loc[~web_dev_cohorts.page_viewed.isin(remove_pages)]\n",
    "\n",
    "# Replace content main page with empty string.\n",
    "web_dev_cohorts.page_viewed = web_dev_cohorts.page_viewed.replace('content/', '', regex=True)"
   ]
  },
  {
   "cell_type": "markdown",
   "metadata": {},
   "source": [
    "## Web Development Cohorts: Lesson Traffic\n",
    "\n",
    "Web Development cohorts still in session. Cohort ID 58 == Hyperion graduated 11-10-2020. I will consider their data fully represented. They worked on capstone projects the last month of class."
   ]
  },
  {
   "cell_type": "code",
   "execution_count": 6,
   "metadata": {},
   "outputs": [
    {
     "data": {
      "text/html": [
       "<div>\n",
       "<style scoped>\n",
       "    .dataframe tbody tr th:only-of-type {\n",
       "        vertical-align: middle;\n",
       "    }\n",
       "\n",
       "    .dataframe tbody tr th {\n",
       "        vertical-align: top;\n",
       "    }\n",
       "\n",
       "    .dataframe thead th {\n",
       "        text-align: right;\n",
       "    }\n",
       "</style>\n",
       "<table border=\"1\" class=\"dataframe\">\n",
       "  <thead>\n",
       "    <tr style=\"text-align: right;\">\n",
       "      <th></th>\n",
       "      <th>page_viewed</th>\n",
       "      <th>user_id</th>\n",
       "      <th>cohort_id</th>\n",
       "      <th>ip</th>\n",
       "      <th>cohort_name</th>\n",
       "      <th>program_start</th>\n",
       "      <th>end_date</th>\n",
       "      <th>program_id</th>\n",
       "    </tr>\n",
       "    <tr>\n",
       "      <th>date</th>\n",
       "      <th></th>\n",
       "      <th></th>\n",
       "      <th></th>\n",
       "      <th></th>\n",
       "      <th></th>\n",
       "      <th></th>\n",
       "      <th></th>\n",
       "      <th></th>\n",
       "    </tr>\n",
       "  </thead>\n",
       "  <tbody>\n",
       "    <tr>\n",
       "      <th>2018-01-26</th>\n",
       "      <td>java-ii</td>\n",
       "      <td>1</td>\n",
       "      <td>8</td>\n",
       "      <td>97.105.19.61</td>\n",
       "      <td>Hampton</td>\n",
       "      <td>2015-09-22</td>\n",
       "      <td>2016-02-06</td>\n",
       "      <td>1</td>\n",
       "    </tr>\n",
       "    <tr>\n",
       "      <th>2018-01-26</th>\n",
       "      <td>java-ii/object-oriented-programming</td>\n",
       "      <td>1</td>\n",
       "      <td>8</td>\n",
       "      <td>97.105.19.61</td>\n",
       "      <td>Hampton</td>\n",
       "      <td>2015-09-22</td>\n",
       "      <td>2016-02-06</td>\n",
       "      <td>1</td>\n",
       "    </tr>\n",
       "    <tr>\n",
       "      <th>2018-01-26</th>\n",
       "      <td>slides/object_oriented_programming</td>\n",
       "      <td>1</td>\n",
       "      <td>8</td>\n",
       "      <td>97.105.19.61</td>\n",
       "      <td>Hampton</td>\n",
       "      <td>2015-09-22</td>\n",
       "      <td>2016-02-06</td>\n",
       "      <td>1</td>\n",
       "    </tr>\n",
       "    <tr>\n",
       "      <th>2018-01-26</th>\n",
       "      <td>javascript-i/conditionals</td>\n",
       "      <td>2</td>\n",
       "      <td>22</td>\n",
       "      <td>97.105.19.61</td>\n",
       "      <td>Teddy</td>\n",
       "      <td>2018-01-08</td>\n",
       "      <td>2018-05-17</td>\n",
       "      <td>2</td>\n",
       "    </tr>\n",
       "    <tr>\n",
       "      <th>2018-01-26</th>\n",
       "      <td>javascript-i/loops</td>\n",
       "      <td>2</td>\n",
       "      <td>22</td>\n",
       "      <td>97.105.19.61</td>\n",
       "      <td>Teddy</td>\n",
       "      <td>2018-01-08</td>\n",
       "      <td>2018-05-17</td>\n",
       "      <td>2</td>\n",
       "    </tr>\n",
       "  </tbody>\n",
       "</table>\n",
       "</div>"
      ],
      "text/plain": [
       "                                    page_viewed  user_id  cohort_id  \\\n",
       "date                                                                  \n",
       "2018-01-26                              java-ii        1          8   \n",
       "2018-01-26  java-ii/object-oriented-programming        1          8   \n",
       "2018-01-26   slides/object_oriented_programming        1          8   \n",
       "2018-01-26            javascript-i/conditionals        2         22   \n",
       "2018-01-26                   javascript-i/loops        2         22   \n",
       "\n",
       "                      ip cohort_name program_start   end_date  program_id  \n",
       "date                                                                       \n",
       "2018-01-26  97.105.19.61     Hampton    2015-09-22 2016-02-06           1  \n",
       "2018-01-26  97.105.19.61     Hampton    2015-09-22 2016-02-06           1  \n",
       "2018-01-26  97.105.19.61     Hampton    2015-09-22 2016-02-06           1  \n",
       "2018-01-26  97.105.19.61       Teddy    2018-01-08 2018-05-17           2  \n",
       "2018-01-26  97.105.19.61       Teddy    2018-01-08 2018-05-17           2  "
      ]
     },
     "execution_count": 6,
     "metadata": {},
     "output_type": "execute_result"
    }
   ],
   "source": [
    "web_dev_cohorts.head()"
   ]
  },
  {
   "cell_type": "code",
   "execution_count": 7,
   "metadata": {},
   "outputs": [
    {
     "name": "stdout",
     "output_type": "stream",
     "text": [
      "javascript-i     12639\n",
      "java-iii          9702\n",
      "html-css          9675\n",
      "java-ii           9072\n",
      "spring            8785\n",
      "jquery            8298\n",
      "mysql             8180\n",
      "java-i            8075\n",
      "javascript-ii     7623\n",
      "mysql/tables      5730\n",
      "Name: page_viewed, dtype: int64\n"
     ]
    }
   ],
   "source": [
    "# Step 3 `.value_counts()`\n",
    "wd_top_10_pages = web_dev_cohorts.page_viewed.value_counts().nlargest(10)\n",
    "print(wd_top_10_pages)\n",
    "wd_top_10_pages = wd_top_10_pages.index.to_list()"
   ]
  },
  {
   "cell_type": "code",
   "execution_count": 8,
   "metadata": {},
   "outputs": [
    {
     "name": "stdout",
     "output_type": "stream",
     "text": [
      "Top 5 pages accessed by users in Web Devlopement:\n",
      "-------------------------------------------------\n",
      "javascript-i\n",
      "java-iii\n",
      "html-css\n",
      "java-ii\n",
      "spring\n"
     ]
    }
   ],
   "source": [
    "wd_top_5_pages = wd_top_10_pages[:5]\n",
    "\n",
    "print(f'Top 5 pages accessed by users in Web Devlopement:')\n",
    "print('-' * 49)\n",
    "for i in wd_top_5_pages:\n",
    "    print(i)"
   ]
  },
  {
   "cell_type": "code",
   "execution_count": 9,
   "metadata": {},
   "outputs": [
    {
     "data": {
      "text/html": [
       "<div>\n",
       "<style scoped>\n",
       "    .dataframe tbody tr th:only-of-type {\n",
       "        vertical-align: middle;\n",
       "    }\n",
       "\n",
       "    .dataframe tbody tr th {\n",
       "        vertical-align: top;\n",
       "    }\n",
       "\n",
       "    .dataframe thead th {\n",
       "        text-align: right;\n",
       "    }\n",
       "</style>\n",
       "<table border=\"1\" class=\"dataframe\">\n",
       "  <thead>\n",
       "    <tr style=\"text-align: right;\">\n",
       "      <th>page_viewed</th>\n",
       "      <th>javascript-i</th>\n",
       "      <th>java-iii</th>\n",
       "      <th>html-css</th>\n",
       "      <th>java-ii</th>\n",
       "      <th>spring</th>\n",
       "    </tr>\n",
       "    <tr>\n",
       "      <th>date</th>\n",
       "      <th></th>\n",
       "      <th></th>\n",
       "      <th></th>\n",
       "      <th></th>\n",
       "      <th></th>\n",
       "    </tr>\n",
       "  </thead>\n",
       "  <tbody>\n",
       "    <tr>\n",
       "      <th>2018-01-26</th>\n",
       "      <td>14.0</td>\n",
       "      <td>0.0</td>\n",
       "      <td>2.0</td>\n",
       "      <td>1.0</td>\n",
       "      <td>23.0</td>\n",
       "    </tr>\n",
       "    <tr>\n",
       "      <th>2018-01-27</th>\n",
       "      <td>10.0</td>\n",
       "      <td>0.0</td>\n",
       "      <td>5.0</td>\n",
       "      <td>0.0</td>\n",
       "      <td>10.0</td>\n",
       "    </tr>\n",
       "    <tr>\n",
       "      <th>2018-01-28</th>\n",
       "      <td>9.0</td>\n",
       "      <td>2.0</td>\n",
       "      <td>4.0</td>\n",
       "      <td>0.0</td>\n",
       "      <td>4.0</td>\n",
       "    </tr>\n",
       "    <tr>\n",
       "      <th>2018-01-29</th>\n",
       "      <td>36.0</td>\n",
       "      <td>6.0</td>\n",
       "      <td>14.0</td>\n",
       "      <td>0.0</td>\n",
       "      <td>36.0</td>\n",
       "    </tr>\n",
       "    <tr>\n",
       "      <th>2018-01-30</th>\n",
       "      <td>43.0</td>\n",
       "      <td>0.0</td>\n",
       "      <td>6.0</td>\n",
       "      <td>1.0</td>\n",
       "      <td>17.0</td>\n",
       "    </tr>\n",
       "  </tbody>\n",
       "</table>\n",
       "</div>"
      ],
      "text/plain": [
       "page_viewed  javascript-i  java-iii  html-css  java-ii  spring\n",
       "date                                                          \n",
       "2018-01-26           14.0       0.0       2.0      1.0    23.0\n",
       "2018-01-27           10.0       0.0       5.0      0.0    10.0\n",
       "2018-01-28            9.0       2.0       4.0      0.0     4.0\n",
       "2018-01-29           36.0       6.0      14.0      0.0    36.0\n",
       "2018-01-30           43.0       0.0       6.0      1.0    17.0"
      ]
     },
     "execution_count": 9,
     "metadata": {},
     "output_type": "execute_result"
    }
   ],
   "source": [
    "# Create a dataframe of the top 5 pages accessed. Sum the total views for each day.\n",
    "wd_pages_over_time = web_dev_cohorts.groupby(['date', 'page_viewed'])['user_id'].count().unstack(1)\n",
    "wd_pages_over_time = wd_pages_over_time.fillna(0)\n",
    "\n",
    "wd_top_5_pages_over_time = wd_pages_over_time[wd_top_5_pages]\n",
    "wd_top_5_pages_over_time.head()"
   ]
  },
  {
   "cell_type": "code",
   "execution_count": 10,
   "metadata": {},
   "outputs": [
    {
     "data": {
      "text/plain": [
       "page_viewed\n",
       "javascript-i    361.114286\n",
       "java-iii        277.200000\n",
       "html-css        276.428571\n",
       "java-ii         259.200000\n",
       "spring          251.000000\n",
       "dtype: float64"
      ]
     },
     "execution_count": 10,
     "metadata": {},
     "output_type": "execute_result"
    }
   ],
   "source": [
    "# Web Development: Monthly average page views per page\n",
    "wd_top_5_pages_over_time.resample('M').sum().mean()"
   ]
  },
  {
   "cell_type": "markdown",
   "metadata": {},
   "source": [
    "Exponential Weighted Mean used for several reasons.\n",
    "1. There are multiple Web Development cohorts in session at a time.\n",
    "    - Sessions in San Antonio and Dallas.\n",
    "2. In 2020, there were 3 cohorts that started one month apart: Fortuna, Apex, Ganymede.\n",
    "    - Fortuna, Apex, Ganymede have graduated."
   ]
  },
  {
   "cell_type": "code",
   "execution_count": 11,
   "metadata": {
    "scrolled": false
   },
   "outputs": [
    {
     "data": {
      "image/png": "[encoded data removed]",
      "text/plain": [
       "<Figure size 936x504 with 1 Axes>"
      ]
     },
     "metadata": {
      "needs_background": "light"
     },
     "output_type": "display_data"
    }
   ],
   "source": [
    "wd_top_5_pages_ewm = wd_top_5_pages_over_time.resample('M').sum().ewm(3).mean()\n",
    "\n",
    "ax = wd_top_5_pages_ewm.plot(figsize=(13, 7), linewidth=3, use_index=True, alpha=.65)\n",
    "\n",
    "plt.title('Top 5 pages viewed by \\nWeb Development Cohorts', fontsize=18)\n",
    "plt.tick_params(labelsize=14, pad=5)\n",
    "plt.xlabel('Date', fontsize=16)\n",
    "plt.ylabel('Average Views Per Month', fontsize=16)\n",
    "\n",
    "ax.legend(*[wd_top_5_pages],fontsize=12);"
   ]
  },
  {
   "cell_type": "markdown",
   "metadata": {},
   "source": [
    "Question 1, Part 1:<br>\n",
    "Which lesson appears to attract the most traffic consistently across cohorts (Web Development Programs)?<br>\n",
    ">Answer: Web development cohorts access <strong>javascript-i</strong> the most."
   ]
  },
  {
   "cell_type": "markdown",
   "metadata": {},
   "source": [
    "## Data Science Cohorts: Lesson Traffic"
   ]
  },
  {
   "cell_type": "code",
   "execution_count": 12,
   "metadata": {},
   "outputs": [],
   "source": [
    "# Step 2.\n",
    "# Create a variable to store pages to filter out.\n",
    "remove_pages = ['/', 'toc', 'appendix', 'index.html', 'search/search_index.json', 'mkdocs/search_index.json']\n",
    "\n",
    "# Clean page_viewed to remove logistic pages: Searches, Table of Contents, Appendix\n",
    "ds_cohorts = ds_cohorts.loc[~ds_cohorts.page_viewed.isin(remove_pages)]\n",
    "\n",
    "# Replace content main page with empty string.\n",
    "ds_cohorts.page_viewed = ds_cohorts.page_viewed.replace('content/', '', regex=True)"
   ]
  },
  {
   "cell_type": "code",
   "execution_count": 13,
   "metadata": {},
   "outputs": [
    {
     "data": {
      "text/html": [
       "<div>\n",
       "<style scoped>\n",
       "    .dataframe tbody tr th:only-of-type {\n",
       "        vertical-align: middle;\n",
       "    }\n",
       "\n",
       "    .dataframe tbody tr th {\n",
       "        vertical-align: top;\n",
       "    }\n",
       "\n",
       "    .dataframe thead th {\n",
       "        text-align: right;\n",
       "    }\n",
       "</style>\n",
       "<table border=\"1\" class=\"dataframe\">\n",
       "  <thead>\n",
       "    <tr style=\"text-align: right;\">\n",
       "      <th></th>\n",
       "      <th>page_viewed</th>\n",
       "      <th>user_id</th>\n",
       "      <th>cohort_id</th>\n",
       "      <th>ip</th>\n",
       "      <th>cohort_name</th>\n",
       "      <th>program_start</th>\n",
       "      <th>end_date</th>\n",
       "      <th>program_id</th>\n",
       "    </tr>\n",
       "    <tr>\n",
       "      <th>date</th>\n",
       "      <th></th>\n",
       "      <th></th>\n",
       "      <th></th>\n",
       "      <th></th>\n",
       "      <th></th>\n",
       "      <th></th>\n",
       "      <th></th>\n",
       "      <th></th>\n",
       "    </tr>\n",
       "  </thead>\n",
       "  <tbody>\n",
       "    <tr>\n",
       "      <th>2019-08-20</th>\n",
       "      <td>3-sql/1-mysql-overview</td>\n",
       "      <td>470</td>\n",
       "      <td>34</td>\n",
       "      <td>97.105.19.58</td>\n",
       "      <td>Bayes</td>\n",
       "      <td>2019-08-19</td>\n",
       "      <td>2020-01-30</td>\n",
       "      <td>3</td>\n",
       "    </tr>\n",
       "    <tr>\n",
       "      <th>2019-08-20</th>\n",
       "      <td>2-storytelling/bad-charts</td>\n",
       "      <td>467</td>\n",
       "      <td>34</td>\n",
       "      <td>97.105.19.58</td>\n",
       "      <td>Bayes</td>\n",
       "      <td>2019-08-19</td>\n",
       "      <td>2020-01-30</td>\n",
       "      <td>3</td>\n",
       "    </tr>\n",
       "    <tr>\n",
       "      <th>2019-08-20</th>\n",
       "      <td>2-storytelling/misleading1_baseball.jpg</td>\n",
       "      <td>467</td>\n",
       "      <td>34</td>\n",
       "      <td>97.105.19.58</td>\n",
       "      <td>Bayes</td>\n",
       "      <td>2019-08-19</td>\n",
       "      <td>2020-01-30</td>\n",
       "      <td>3</td>\n",
       "    </tr>\n",
       "    <tr>\n",
       "      <th>2019-08-20</th>\n",
       "      <td>2-storytelling/misleading1_fox.jpg</td>\n",
       "      <td>467</td>\n",
       "      <td>34</td>\n",
       "      <td>97.105.19.58</td>\n",
       "      <td>Bayes</td>\n",
       "      <td>2019-08-19</td>\n",
       "      <td>2020-01-30</td>\n",
       "      <td>3</td>\n",
       "    </tr>\n",
       "    <tr>\n",
       "      <th>2019-08-20</th>\n",
       "      <td>2-storytelling/misleading3_deaths.jpg</td>\n",
       "      <td>467</td>\n",
       "      <td>34</td>\n",
       "      <td>97.105.19.58</td>\n",
       "      <td>Bayes</td>\n",
       "      <td>2019-08-19</td>\n",
       "      <td>2020-01-30</td>\n",
       "      <td>3</td>\n",
       "    </tr>\n",
       "  </tbody>\n",
       "</table>\n",
       "</div>"
      ],
      "text/plain": [
       "                                        page_viewed  user_id  cohort_id  \\\n",
       "date                                                                      \n",
       "2019-08-20                   3-sql/1-mysql-overview      470         34   \n",
       "2019-08-20                2-storytelling/bad-charts      467         34   \n",
       "2019-08-20  2-storytelling/misleading1_baseball.jpg      467         34   \n",
       "2019-08-20       2-storytelling/misleading1_fox.jpg      467         34   \n",
       "2019-08-20    2-storytelling/misleading3_deaths.jpg      467         34   \n",
       "\n",
       "                      ip cohort_name program_start   end_date  program_id  \n",
       "date                                                                       \n",
       "2019-08-20  97.105.19.58       Bayes    2019-08-19 2020-01-30           3  \n",
       "2019-08-20  97.105.19.58       Bayes    2019-08-19 2020-01-30           3  \n",
       "2019-08-20  97.105.19.58       Bayes    2019-08-19 2020-01-30           3  \n",
       "2019-08-20  97.105.19.58       Bayes    2019-08-19 2020-01-30           3  \n",
       "2019-08-20  97.105.19.58       Bayes    2019-08-19 2020-01-30           3  "
      ]
     },
     "execution_count": 13,
     "metadata": {},
     "output_type": "execute_result"
    }
   ],
   "source": [
    "ds_cohorts.head()"
   ]
  },
  {
   "cell_type": "code",
   "execution_count": 14,
   "metadata": {},
   "outputs": [
    {
     "name": "stdout",
     "output_type": "stream",
     "text": [
      "1-fundamentals/modern-data-scientist.jpg             1563\n",
      "1-fundamentals/AI-ML-DL-timeline.jpg                 1559\n",
      "1-fundamentals/1.1-intro-to-data-science             1536\n",
      "6-regression/1-overview                              1123\n",
      "classification/overview                               860\n",
      "10-anomaly-detection/AnomalyDetectionCartoon.jpeg     745\n",
      "10-anomaly-detection/1-overview                       742\n",
      "3-sql/1-mysql-overview                                704\n",
      "1-fundamentals/DataToAction_v2.jpg                    662\n",
      "classification/scale_features_or_not.svg              642\n",
      "Name: page_viewed, dtype: int64\n"
     ]
    }
   ],
   "source": [
    "# Step 3 `.value_counts()`\n",
    "ds_top_10_pages = ds_cohorts.page_viewed.value_counts().nlargest(10)\n",
    "print(ds_top_10_pages)\n",
    "ds_top_10_pages = ds_top_10_pages.index.to_list()"
   ]
  },
  {
   "cell_type": "code",
   "execution_count": 15,
   "metadata": {},
   "outputs": [
    {
     "name": "stdout",
     "output_type": "stream",
     "text": [
      "Top 5 pages accessed by users in Data Science:\n",
      "----------------------------------------------\n",
      "1-fundamentals/modern-data-scientist.jpg\n",
      "1-fundamentals/AI-ML-DL-timeline.jpg\n",
      "1-fundamentals/1.1-intro-to-data-science\n",
      "6-regression/1-overview\n",
      "classification/overview\n"
     ]
    }
   ],
   "source": [
    "ds_top_5_pages = ds_top_10_pages[:5]\n",
    "print(f'Top 5 pages accessed by users in Data Science:')\n",
    "print('-' * 46)\n",
    "for i in ds_top_5_pages:\n",
    "    print(i)"
   ]
  },
  {
   "cell_type": "code",
   "execution_count": 16,
   "metadata": {},
   "outputs": [
    {
     "data": {
      "text/html": [
       "<div>\n",
       "<style scoped>\n",
       "    .dataframe tbody tr th:only-of-type {\n",
       "        vertical-align: middle;\n",
       "    }\n",
       "\n",
       "    .dataframe tbody tr th {\n",
       "        vertical-align: top;\n",
       "    }\n",
       "\n",
       "    .dataframe thead th {\n",
       "        text-align: right;\n",
       "    }\n",
       "</style>\n",
       "<table border=\"1\" class=\"dataframe\">\n",
       "  <thead>\n",
       "    <tr style=\"text-align: right;\">\n",
       "      <th>page_viewed</th>\n",
       "      <th>1-fundamentals/modern-data-scientist.jpg</th>\n",
       "      <th>1-fundamentals/AI-ML-DL-timeline.jpg</th>\n",
       "      <th>1-fundamentals/1.1-intro-to-data-science</th>\n",
       "      <th>6-regression/1-overview</th>\n",
       "      <th>classification/overview</th>\n",
       "    </tr>\n",
       "    <tr>\n",
       "      <th>date</th>\n",
       "      <th></th>\n",
       "      <th></th>\n",
       "      <th></th>\n",
       "      <th></th>\n",
       "      <th></th>\n",
       "    </tr>\n",
       "  </thead>\n",
       "  <tbody>\n",
       "    <tr>\n",
       "      <th>2019-08-20</th>\n",
       "      <td>46.0</td>\n",
       "      <td>46.0</td>\n",
       "      <td>45.0</td>\n",
       "      <td>0.0</td>\n",
       "      <td>0.0</td>\n",
       "    </tr>\n",
       "    <tr>\n",
       "      <th>2019-08-21</th>\n",
       "      <td>74.0</td>\n",
       "      <td>73.0</td>\n",
       "      <td>71.0</td>\n",
       "      <td>23.0</td>\n",
       "      <td>0.0</td>\n",
       "    </tr>\n",
       "    <tr>\n",
       "      <th>2019-08-22</th>\n",
       "      <td>41.0</td>\n",
       "      <td>40.0</td>\n",
       "      <td>40.0</td>\n",
       "      <td>12.0</td>\n",
       "      <td>0.0</td>\n",
       "    </tr>\n",
       "    <tr>\n",
       "      <th>2019-08-23</th>\n",
       "      <td>9.0</td>\n",
       "      <td>9.0</td>\n",
       "      <td>9.0</td>\n",
       "      <td>0.0</td>\n",
       "      <td>0.0</td>\n",
       "    </tr>\n",
       "    <tr>\n",
       "      <th>2019-08-24</th>\n",
       "      <td>3.0</td>\n",
       "      <td>3.0</td>\n",
       "      <td>3.0</td>\n",
       "      <td>1.0</td>\n",
       "      <td>0.0</td>\n",
       "    </tr>\n",
       "  </tbody>\n",
       "</table>\n",
       "</div>"
      ],
      "text/plain": [
       "page_viewed  1-fundamentals/modern-data-scientist.jpg  \\\n",
       "date                                                    \n",
       "2019-08-20                                       46.0   \n",
       "2019-08-21                                       74.0   \n",
       "2019-08-22                                       41.0   \n",
       "2019-08-23                                        9.0   \n",
       "2019-08-24                                        3.0   \n",
       "\n",
       "page_viewed  1-fundamentals/AI-ML-DL-timeline.jpg  \\\n",
       "date                                                \n",
       "2019-08-20                                   46.0   \n",
       "2019-08-21                                   73.0   \n",
       "2019-08-22                                   40.0   \n",
       "2019-08-23                                    9.0   \n",
       "2019-08-24                                    3.0   \n",
       "\n",
       "page_viewed  1-fundamentals/1.1-intro-to-data-science  \\\n",
       "date                                                    \n",
       "2019-08-20                                       45.0   \n",
       "2019-08-21                                       71.0   \n",
       "2019-08-22                                       40.0   \n",
       "2019-08-23                                        9.0   \n",
       "2019-08-24                                        3.0   \n",
       "\n",
       "page_viewed  6-regression/1-overview  classification/overview  \n",
       "date                                                           \n",
       "2019-08-20                       0.0                      0.0  \n",
       "2019-08-21                      23.0                      0.0  \n",
       "2019-08-22                      12.0                      0.0  \n",
       "2019-08-23                       0.0                      0.0  \n",
       "2019-08-24                       1.0                      0.0  "
      ]
     },
     "execution_count": 16,
     "metadata": {},
     "output_type": "execute_result"
    }
   ],
   "source": [
    "ds_pages_over_time = ds_cohorts.groupby(['date', 'page_viewed'])['user_id'].count().unstack(1)\n",
    "ds_pages_over_time = ds_pages_over_time.fillna(0)\n",
    "\n",
    "ds_top_5_pages_over_time = ds_pages_over_time[ds_top_5_pages]\n",
    "ds_top_5_pages_over_time.head()"
   ]
  },
  {
   "cell_type": "code",
   "execution_count": 17,
   "metadata": {},
   "outputs": [
    {
     "data": {
      "text/plain": [
       "page_viewed\n",
       "1-fundamentals/modern-data-scientist.jpg    97.6875\n",
       "1-fundamentals/AI-ML-DL-timeline.jpg        97.4375\n",
       "1-fundamentals/1.1-intro-to-data-science    96.0000\n",
       "6-regression/1-overview                     70.1875\n",
       "classification/overview                     53.7500\n",
       "dtype: float64"
      ]
     },
     "execution_count": 17,
     "metadata": {},
     "output_type": "execute_result"
    }
   ],
   "source": [
    "# Data Science: Monthly average page views per page\n",
    "ds_top_5_pages_over_time.resample('M').sum().mean()"
   ]
  },
  {
   "cell_type": "code",
   "execution_count": 18,
   "metadata": {},
   "outputs": [
    {
     "data": {
      "image/png": "[encoded data removed]",
      "text/plain": [
       "<Figure size 936x504 with 1 Axes>"
      ]
     },
     "metadata": {
      "needs_background": "light"
     },
     "output_type": "display_data"
    }
   ],
   "source": [
    "ds_top_5_pages_ewm = ds_top_5_pages_over_time.resample('M').sum().ewm(3).mean()\n",
    "\n",
    "ax = ds_top_5_pages_ewm.plot(figsize=(13, 7), linewidth=3, use_index=True, alpha=.65)\n",
    "\n",
    "plt.title('Top 5 pages viewed by \\nData Science Cohorts', fontsize=18)\n",
    "plt.tick_params(labelsize=14, pad=5)\n",
    "plt.xlabel('Date', fontsize=16)\n",
    "plt.ylabel('Average Views Per Month', fontsize=16)\n",
    "\n",
    "ax.legend(*[ds_top_5_pages], fontsize=12, loc=8)\n",
    "ax.text('2019-09-01', 205, 'Bayes', ha='center')\n",
    "ax.text('2020-02-01', 140, 'Curie')\n",
    "ax.text('2020-07-01', 180, 'Darden');"
   ]
  },
  {
   "cell_type": "markdown",
   "metadata": {},
   "source": [
    "Question 1, Part 2:<br>\n",
    "Which lesson appears to attract the most traffic consistently across cohorts (Data Science Programs)?<br>\n",
    ">Answer: Data Science cohorts access <strong>1-fundamentals/modern-data-science.jpg</strong> the most.\n",
    "\n",
    "Answer:\n",
    "Among all cohorts, web dev and data science, introductory curriculum pages are accessed the most.\n",
    "- There are more students at the start of a cohort. Students may drop out."
   ]
  },
  {
   "cell_type": "markdown",
   "metadata": {},
   "source": [
    "# 2. Is there a cohort that referred to a lesson significantly more that other cohorts seemed to gloss over? "
   ]
  },
  {
   "cell_type": "markdown",
   "metadata": {},
   "source": [
    "## Web Development\n",
    "Question 2, Part 1<br>\n",
    "Is there a web development cohort that referred to a lesson significantly more that other cohorts seemed to gloss over?\n",
    "\n",
    "To answer this question, we'll focus on cohorts that graduated in 2020.\n",
    "\n",
    "| cohort_id | cohort_name  | program_start_date | end_date |\n",
    "| :-------- | :---------- | :----------------- | :------- |\n",
    "51\t| Deimos\t| 2019-09-16 |\t2020-02-27 |\n",
    "52\t| Europa\t| 2019-11-04 |\t2020-04-17 |\n",
    "53\t| Fortuna\t| 2020-01-13 |\t2020-06-23 |\n",
    "56\t| Apex\t| 2020-02-24 |\t2020-07-29 |\n",
    "57\t| Ganymede\t| 2020-03-23 |\t2020-08-20 |\n",
    "58\t| Hyperion\t| 2020-05-26 |\t2020-11-10 |"
   ]
  },
  {
   "cell_type": "code",
   "execution_count": 19,
   "metadata": {},
   "outputs": [
    {
     "data": {
      "text/html": [
       "<div>\n",
       "<style scoped>\n",
       "    .dataframe tbody tr th:only-of-type {\n",
       "        vertical-align: middle;\n",
       "    }\n",
       "\n",
       "    .dataframe tbody tr th {\n",
       "        vertical-align: top;\n",
       "    }\n",
       "\n",
       "    .dataframe thead th {\n",
       "        text-align: right;\n",
       "    }\n",
       "</style>\n",
       "<table border=\"1\" class=\"dataframe\">\n",
       "  <thead>\n",
       "    <tr style=\"text-align: right;\">\n",
       "      <th></th>\n",
       "      <th>page_viewed</th>\n",
       "      <th>user_id</th>\n",
       "      <th>cohort_id</th>\n",
       "      <th>ip</th>\n",
       "      <th>cohort_name</th>\n",
       "      <th>program_start</th>\n",
       "      <th>end_date</th>\n",
       "      <th>program_id</th>\n",
       "    </tr>\n",
       "    <tr>\n",
       "      <th>date</th>\n",
       "      <th></th>\n",
       "      <th></th>\n",
       "      <th></th>\n",
       "      <th></th>\n",
       "      <th></th>\n",
       "      <th></th>\n",
       "      <th></th>\n",
       "      <th></th>\n",
       "    </tr>\n",
       "  </thead>\n",
       "  <tbody>\n",
       "    <tr>\n",
       "      <th>2019-09-16</th>\n",
       "      <td>html-css</td>\n",
       "      <td>489</td>\n",
       "      <td>51</td>\n",
       "      <td>97.105.19.58</td>\n",
       "      <td>Deimos</td>\n",
       "      <td>2019-09-16</td>\n",
       "      <td>2020-02-27</td>\n",
       "      <td>2</td>\n",
       "    </tr>\n",
       "    <tr>\n",
       "      <th>2019-09-16</th>\n",
       "      <td>javascript-i</td>\n",
       "      <td>489</td>\n",
       "      <td>51</td>\n",
       "      <td>97.105.19.58</td>\n",
       "      <td>Deimos</td>\n",
       "      <td>2019-09-16</td>\n",
       "      <td>2020-02-27</td>\n",
       "      <td>2</td>\n",
       "    </tr>\n",
       "    <tr>\n",
       "      <th>2019-09-16</th>\n",
       "      <td>html-css</td>\n",
       "      <td>489</td>\n",
       "      <td>51</td>\n",
       "      <td>97.105.19.58</td>\n",
       "      <td>Deimos</td>\n",
       "      <td>2019-09-16</td>\n",
       "      <td>2020-02-27</td>\n",
       "      <td>2</td>\n",
       "    </tr>\n",
       "    <tr>\n",
       "      <th>2019-09-16</th>\n",
       "      <td>html-css</td>\n",
       "      <td>489</td>\n",
       "      <td>51</td>\n",
       "      <td>97.105.19.58</td>\n",
       "      <td>Deimos</td>\n",
       "      <td>2019-09-16</td>\n",
       "      <td>2020-02-27</td>\n",
       "      <td>2</td>\n",
       "    </tr>\n",
       "    <tr>\n",
       "      <th>2019-09-16</th>\n",
       "      <td>html-css</td>\n",
       "      <td>490</td>\n",
       "      <td>51</td>\n",
       "      <td>97.105.19.58</td>\n",
       "      <td>Deimos</td>\n",
       "      <td>2019-09-16</td>\n",
       "      <td>2020-02-27</td>\n",
       "      <td>2</td>\n",
       "    </tr>\n",
       "  </tbody>\n",
       "</table>\n",
       "</div>"
      ],
      "text/plain": [
       "             page_viewed  user_id  cohort_id            ip cohort_name  \\\n",
       "date                                                                     \n",
       "2019-09-16      html-css      489         51  97.105.19.58      Deimos   \n",
       "2019-09-16  javascript-i      489         51  97.105.19.58      Deimos   \n",
       "2019-09-16      html-css      489         51  97.105.19.58      Deimos   \n",
       "2019-09-16      html-css      489         51  97.105.19.58      Deimos   \n",
       "2019-09-16      html-css      490         51  97.105.19.58      Deimos   \n",
       "\n",
       "           program_start   end_date  program_id  \n",
       "date                                             \n",
       "2019-09-16    2019-09-16 2020-02-27           2  \n",
       "2019-09-16    2019-09-16 2020-02-27           2  \n",
       "2019-09-16    2019-09-16 2020-02-27           2  \n",
       "2019-09-16    2019-09-16 2020-02-27           2  \n",
       "2019-09-16    2019-09-16 2020-02-27           2  "
      ]
     },
     "execution_count": 19,
     "metadata": {},
     "output_type": "execute_result"
    }
   ],
   "source": [
    "wd_recent_grads = web_dev_cohorts.loc[web_dev_cohorts.cohort_id.isin([51,52,53,56,57,58])]\n",
    "wd_recent_grads.head()"
   ]
  },
  {
   "cell_type": "markdown",
   "metadata": {},
   "source": [
    "<div class='alert alert-box alert-info'>Each bar represents the number of times a cohort has viewed a page of the curriculum. The page viewed is the title. The graphs are ordered from most viewed page to 10th most viewed page. Read Left to Right.</div>"
   ]
  },
  {
   "cell_type": "code",
   "execution_count": 20,
   "metadata": {
    "scrolled": false
   },
   "outputs": [
    {
     "data": {
      "image/png": "[encoded data removed]",
      "text/plain": [
       "<Figure size 1152x1440 with 10 Axes>"
      ]
     },
     "metadata": {},
     "output_type": "display_data"
    }
   ],
   "source": [
    "sns.set(font_scale = 1.5)\n",
    "row_order=wd_top_10_pages\n",
    "\n",
    "g = sns.catplot(data=wd_recent_grads,\n",
    "                x=\"cohort_id\",\n",
    "                kind=\"count\",\n",
    "                col=\"page_viewed\",\n",
    "                col_order=wd_top_10_pages,\n",
    "                col_wrap=2,\n",
    "                height=4,\n",
    "                aspect=2,\n",
    "                sharex=False,\n",
    "                palette='mako')\n",
    "\n",
    "plt.tick_params(labelsize=16, pad=5)\n",
    "plt.tight_layout();"
   ]
  },
  {
   "cell_type": "markdown",
   "metadata": {},
   "source": [
    "Question 2, Part 1<br>\n",
    "Is there a web development cohort that referred to a lesson significantly more that other cohorts seemed to gloss over?\n",
    "\n",
    "1. Ganymede cohort viewed javascript-i more than the other cohorts.\n",
    "1. Fortuna cohort viewed java-iii more than the other cohorts.\n",
    "1. Apex cohort viewed html-css more than the other cohorts.\n",
    "1. Hyperion viewed html-css less than the other cohorts.\n",
    "1. Decline in `spring`, `java-i`, and `mysql/tables` page views across cohorts.\n",
    "\n",
    "\n",
    "## Data Science: Top 10 Lesson Across Cohorts\n"
   ]
  },
  {
   "cell_type": "code",
   "execution_count": 21,
   "metadata": {},
   "outputs": [
    {
     "data": {
      "text/html": [
       "<div>\n",
       "<style scoped>\n",
       "    .dataframe tbody tr th:only-of-type {\n",
       "        vertical-align: middle;\n",
       "    }\n",
       "\n",
       "    .dataframe tbody tr th {\n",
       "        vertical-align: top;\n",
       "    }\n",
       "\n",
       "    .dataframe thead th {\n",
       "        text-align: right;\n",
       "    }\n",
       "</style>\n",
       "<table border=\"1\" class=\"dataframe\">\n",
       "  <thead>\n",
       "    <tr style=\"text-align: right;\">\n",
       "      <th></th>\n",
       "      <th>page_viewed</th>\n",
       "      <th>user_id</th>\n",
       "      <th>cohort_id</th>\n",
       "      <th>ip</th>\n",
       "      <th>cohort_name</th>\n",
       "      <th>program_start</th>\n",
       "      <th>end_date</th>\n",
       "      <th>program_id</th>\n",
       "    </tr>\n",
       "    <tr>\n",
       "      <th>date</th>\n",
       "      <th></th>\n",
       "      <th></th>\n",
       "      <th></th>\n",
       "      <th></th>\n",
       "      <th></th>\n",
       "      <th></th>\n",
       "      <th></th>\n",
       "      <th></th>\n",
       "    </tr>\n",
       "  </thead>\n",
       "  <tbody>\n",
       "    <tr>\n",
       "      <th>2019-08-20</th>\n",
       "      <td>3-sql/1-mysql-overview</td>\n",
       "      <td>470</td>\n",
       "      <td>34</td>\n",
       "      <td>97.105.19.58</td>\n",
       "      <td>Bayes</td>\n",
       "      <td>2019-08-19</td>\n",
       "      <td>2020-01-30</td>\n",
       "      <td>3</td>\n",
       "    </tr>\n",
       "    <tr>\n",
       "      <th>2019-08-20</th>\n",
       "      <td>1-fundamentals/1.1-intro-to-data-science</td>\n",
       "      <td>469</td>\n",
       "      <td>34</td>\n",
       "      <td>97.105.19.58</td>\n",
       "      <td>Bayes</td>\n",
       "      <td>2019-08-19</td>\n",
       "      <td>2020-01-30</td>\n",
       "      <td>3</td>\n",
       "    </tr>\n",
       "    <tr>\n",
       "      <th>2019-08-20</th>\n",
       "      <td>1-fundamentals/modern-data-scientist.jpg</td>\n",
       "      <td>469</td>\n",
       "      <td>34</td>\n",
       "      <td>97.105.19.58</td>\n",
       "      <td>Bayes</td>\n",
       "      <td>2019-08-19</td>\n",
       "      <td>2020-01-30</td>\n",
       "      <td>3</td>\n",
       "    </tr>\n",
       "    <tr>\n",
       "      <th>2019-08-20</th>\n",
       "      <td>1-fundamentals/AI-ML-DL-timeline.jpg</td>\n",
       "      <td>469</td>\n",
       "      <td>34</td>\n",
       "      <td>97.105.19.58</td>\n",
       "      <td>Bayes</td>\n",
       "      <td>2019-08-19</td>\n",
       "      <td>2020-01-30</td>\n",
       "      <td>3</td>\n",
       "    </tr>\n",
       "    <tr>\n",
       "      <th>2019-08-20</th>\n",
       "      <td>1-fundamentals/1.1-intro-to-data-science</td>\n",
       "      <td>480</td>\n",
       "      <td>34</td>\n",
       "      <td>97.105.19.58</td>\n",
       "      <td>Bayes</td>\n",
       "      <td>2019-08-19</td>\n",
       "      <td>2020-01-30</td>\n",
       "      <td>3</td>\n",
       "    </tr>\n",
       "  </tbody>\n",
       "</table>\n",
       "</div>"
      ],
      "text/plain": [
       "                                         page_viewed  user_id  cohort_id  \\\n",
       "date                                                                       \n",
       "2019-08-20                    3-sql/1-mysql-overview      470         34   \n",
       "2019-08-20  1-fundamentals/1.1-intro-to-data-science      469         34   \n",
       "2019-08-20  1-fundamentals/modern-data-scientist.jpg      469         34   \n",
       "2019-08-20      1-fundamentals/AI-ML-DL-timeline.jpg      469         34   \n",
       "2019-08-20  1-fundamentals/1.1-intro-to-data-science      480         34   \n",
       "\n",
       "                      ip cohort_name program_start   end_date  program_id  \n",
       "date                                                                       \n",
       "2019-08-20  97.105.19.58       Bayes    2019-08-19 2020-01-30           3  \n",
       "2019-08-20  97.105.19.58       Bayes    2019-08-19 2020-01-30           3  \n",
       "2019-08-20  97.105.19.58       Bayes    2019-08-19 2020-01-30           3  \n",
       "2019-08-20  97.105.19.58       Bayes    2019-08-19 2020-01-30           3  \n",
       "2019-08-20  97.105.19.58       Bayes    2019-08-19 2020-01-30           3  "
      ]
     },
     "execution_count": 21,
     "metadata": {},
     "output_type": "execute_result"
    }
   ],
   "source": [
    "# Filter the data science dataset for observations with the 10 ten pages\n",
    "ds_data = ds_cohorts.loc[ds_cohorts.page_viewed.isin(ds_top_10_pages)]\n",
    "ds_data.head()"
   ]
  },
  {
   "cell_type": "markdown",
   "metadata": {},
   "source": [
    "<div class='alert alert-box alert-info'>Each bar represents the number of times a cohort has viewed a page of the curriculum. The page viewed is the title. The graphs are ordered from most viewed page to 10th most viewed page. Read Left to Right</div>"
   ]
  },
  {
   "cell_type": "code",
   "execution_count": 22,
   "metadata": {
    "scrolled": false
   },
   "outputs": [
    {
     "data": {
      "image/png": "[encoded data removed]",
      "text/plain": [
       "<Figure size 1152x1440 with 10 Axes>"
      ]
     },
     "metadata": {},
     "output_type": "display_data"
    }
   ],
   "source": [
    "sns.set(font_scale = 1.5)\n",
    "column_order=ds_top_10_pages\n",
    "\n",
    "g = sns.catplot(data=ds_data,\n",
    "                x=\"cohort_name\",\n",
    "                kind=\"count\",\n",
    "                col=\"page_viewed\",\n",
    "                col_order=column_order,\n",
    "                order=['Bayes', 'Curie', \"Darden\"],\n",
    "                col_wrap=2,\n",
    "                height=4,\n",
    "                aspect=2,\n",
    "                sharex=False,\n",
    "                palette='Set1')\n",
    "\n",
    "plt.tick_params(labelsize=16, pad=5)\n",
    "plt.tight_layout();"
   ]
  },
  {
   "cell_type": "markdown",
   "metadata": {},
   "source": [
    "Question 2, Part 1<br>\n",
    "Is there a web data science cohort that referred to a lesson significantly more that other cohorts seemed to gloss over?\n",
    "\n",
    "1. Bayes viewed `1-fundamentals/modern-data-scientist.jpg`, `1-fundamentals/AI-ML-DL-timeline.jpg`, and `1-fundamentals/1.1-intro-to-data-science` more than the other cohorts.\n",
    "1. Bayes and Curie viewed `6-regression/1-overview` more than Darden. Darden has almost no page views. This may have been a time when Maggie used her iPad to teach the curriculum.\n",
    "1. Darden viewed `classification/overview` significantly more than Bayes and Curie.\n",
    "1. Bayes and Curie viewed `10-anomaly-detection/AnomalyDetectionCartoon.jpeg` and `10-anomaly-detection/1-overview` significantly more than Darden. This may have also been a time when Maggie used her iPad to teach the curriculum. \n",
    "1. Curie viewed `3-sql/1-mysql-overview` significantly more than the other cohorts.\n",
    "1. Darden viewed `classification/scale_features_or_not.svg` significantly more than the other cohorts."
   ]
  },
  {
   "cell_type": "markdown",
   "metadata": {},
   "source": [
    "# 3. Are there students who, when active, hardly access the curriculum? If so, what information do you have about these students? "
   ]
  },
  {
   "cell_type": "code",
   "execution_count": 23,
   "metadata": {},
   "outputs": [],
   "source": [
    "df = prep_log_cohort_data(get_log_data(), get_cohort_data(), explore=True)\n",
    "remove_pages = ['/', 'toc', 'appendix', 'index.html', 'search/search_index.json', 'mkdocs/search_index.json']\n",
    "\n",
    "# Clean page_viewed to remove logistic pages: Searches, Table of Contents, Appendix\n",
    "df = df.loc[~df.page_viewed.isin(remove_pages)]\n",
    "df = df.loc[~(df.cohort_name == 'Staff')]\n",
    "current_students = df.loc[df.has_graduated == 0]"
   ]
  },
  {
   "cell_type": "code",
   "execution_count": 24,
   "metadata": {},
   "outputs": [],
   "source": [
    "# Active Web Development Students\n",
    "wd_bash = current_students.loc[current_students.cohort_id == 61]\n",
    "wd_jupiter = current_students.loc[current_students.cohort_id == 62]\n",
    "\n",
    "# Active Data Science Students\n",
    "ds_darden = current_students.loc[current_students.cohort_id == 59]"
   ]
  },
  {
   "cell_type": "markdown",
   "metadata": {},
   "source": [
    "# Current Web Development Students\n",
    "\n",
    "## Bash"
   ]
  },
  {
   "cell_type": "code",
   "execution_count": 25,
   "metadata": {},
   "outputs": [
    {
     "data": {
      "text/html": [
       "<div>\n",
       "<style scoped>\n",
       "    .dataframe tbody tr th:only-of-type {\n",
       "        vertical-align: middle;\n",
       "    }\n",
       "\n",
       "    .dataframe tbody tr th {\n",
       "        vertical-align: top;\n",
       "    }\n",
       "\n",
       "    .dataframe thead th {\n",
       "        text-align: right;\n",
       "    }\n",
       "</style>\n",
       "<table border=\"1\" class=\"dataframe\">\n",
       "  <thead>\n",
       "    <tr style=\"text-align: right;\">\n",
       "      <th></th>\n",
       "      <th>page_viewed</th>\n",
       "      <th>user_id</th>\n",
       "      <th>cohort_id</th>\n",
       "      <th>ip</th>\n",
       "      <th>cohort_name</th>\n",
       "      <th>program_start</th>\n",
       "      <th>end_date</th>\n",
       "      <th>...</th>\n",
       "      <th>last_access</th>\n",
       "      <th>days_with_access</th>\n",
       "      <th>active_within_5_days</th>\n",
       "      <th>active_within_1_month</th>\n",
       "      <th>active_within_3_months</th>\n",
       "      <th>active_within_6_months</th>\n",
       "      <th>active_greater_than_6_months</th>\n",
       "    </tr>\n",
       "    <tr>\n",
       "      <th>date</th>\n",
       "      <th></th>\n",
       "      <th></th>\n",
       "      <th></th>\n",
       "      <th></th>\n",
       "      <th></th>\n",
       "      <th></th>\n",
       "      <th></th>\n",
       "      <th></th>\n",
       "      <th></th>\n",
       "      <th></th>\n",
       "      <th></th>\n",
       "      <th></th>\n",
       "      <th></th>\n",
       "      <th></th>\n",
       "      <th></th>\n",
       "    </tr>\n",
       "  </thead>\n",
       "  <tbody>\n",
       "    <tr>\n",
       "      <th>2020-07-20</th>\n",
       "      <td>html-css</td>\n",
       "      <td>700</td>\n",
       "      <td>61</td>\n",
       "      <td>99.43.143.116</td>\n",
       "      <td>Bash</td>\n",
       "      <td>2020-07-20</td>\n",
       "      <td>2021-01-21</td>\n",
       "      <td>...</td>\n",
       "      <td>2020-10-23</td>\n",
       "      <td>95</td>\n",
       "      <td>0</td>\n",
       "      <td>1</td>\n",
       "      <td>0</td>\n",
       "      <td>0</td>\n",
       "      <td>0</td>\n",
       "    </tr>\n",
       "    <tr>\n",
       "      <th>2020-07-21</th>\n",
       "      <td>html-css</td>\n",
       "      <td>700</td>\n",
       "      <td>61</td>\n",
       "      <td>99.43.143.116</td>\n",
       "      <td>Bash</td>\n",
       "      <td>2020-07-20</td>\n",
       "      <td>2021-01-21</td>\n",
       "      <td>...</td>\n",
       "      <td>2020-10-23</td>\n",
       "      <td>95</td>\n",
       "      <td>0</td>\n",
       "      <td>1</td>\n",
       "      <td>0</td>\n",
       "      <td>0</td>\n",
       "      <td>0</td>\n",
       "    </tr>\n",
       "    <tr>\n",
       "      <th>2020-07-21</th>\n",
       "      <td>web-dev-day-two</td>\n",
       "      <td>700</td>\n",
       "      <td>61</td>\n",
       "      <td>99.43.143.116</td>\n",
       "      <td>Bash</td>\n",
       "      <td>2020-07-20</td>\n",
       "      <td>2021-01-21</td>\n",
       "      <td>...</td>\n",
       "      <td>2020-10-23</td>\n",
       "      <td>95</td>\n",
       "      <td>0</td>\n",
       "      <td>1</td>\n",
       "      <td>0</td>\n",
       "      <td>0</td>\n",
       "      <td>0</td>\n",
       "    </tr>\n",
       "    <tr>\n",
       "      <th>2020-07-21</th>\n",
       "      <td>web-dev-day-two</td>\n",
       "      <td>700</td>\n",
       "      <td>61</td>\n",
       "      <td>99.43.143.116</td>\n",
       "      <td>Bash</td>\n",
       "      <td>2020-07-20</td>\n",
       "      <td>2021-01-21</td>\n",
       "      <td>...</td>\n",
       "      <td>2020-10-23</td>\n",
       "      <td>95</td>\n",
       "      <td>0</td>\n",
       "      <td>1</td>\n",
       "      <td>0</td>\n",
       "      <td>0</td>\n",
       "      <td>0</td>\n",
       "    </tr>\n",
       "    <tr>\n",
       "      <th>2020-07-21</th>\n",
       "      <td>appendix/pair-programming</td>\n",
       "      <td>700</td>\n",
       "      <td>61</td>\n",
       "      <td>99.43.143.116</td>\n",
       "      <td>Bash</td>\n",
       "      <td>2020-07-20</td>\n",
       "      <td>2021-01-21</td>\n",
       "      <td>...</td>\n",
       "      <td>2020-10-23</td>\n",
       "      <td>95</td>\n",
       "      <td>0</td>\n",
       "      <td>1</td>\n",
       "      <td>0</td>\n",
       "      <td>0</td>\n",
       "      <td>0</td>\n",
       "    </tr>\n",
       "  </tbody>\n",
       "</table>\n",
       "<p>5 rows × 18 columns</p>\n",
       "</div>"
      ],
      "text/plain": [
       "                          page_viewed  user_id  cohort_id             ip  \\\n",
       "date                                                                       \n",
       "2020-07-20                   html-css      700         61  99.43.143.116   \n",
       "2020-07-21                   html-css      700         61  99.43.143.116   \n",
       "2020-07-21            web-dev-day-two      700         61  99.43.143.116   \n",
       "2020-07-21            web-dev-day-two      700         61  99.43.143.116   \n",
       "2020-07-21  appendix/pair-programming      700         61  99.43.143.116   \n",
       "\n",
       "           cohort_name program_start   end_date  ...  last_access  \\\n",
       "date                                             ...                \n",
       "2020-07-20        Bash    2020-07-20 2021-01-21  ...   2020-10-23   \n",
       "2020-07-21        Bash    2020-07-20 2021-01-21  ...   2020-10-23   \n",
       "2020-07-21        Bash    2020-07-20 2021-01-21  ...   2020-10-23   \n",
       "2020-07-21        Bash    2020-07-20 2021-01-21  ...   2020-10-23   \n",
       "2020-07-21        Bash    2020-07-20 2021-01-21  ...   2020-10-23   \n",
       "\n",
       "           days_with_access  active_within_5_days active_within_1_month  \\\n",
       "date                                                                      \n",
       "2020-07-20               95                     0                     1   \n",
       "2020-07-21               95                     0                     1   \n",
       "2020-07-21               95                     0                     1   \n",
       "2020-07-21               95                     0                     1   \n",
       "2020-07-21               95                     0                     1   \n",
       "\n",
       "           active_within_3_months  active_within_6_months  \\\n",
       "date                                                        \n",
       "2020-07-20                      0                       0   \n",
       "2020-07-21                      0                       0   \n",
       "2020-07-21                      0                       0   \n",
       "2020-07-21                      0                       0   \n",
       "2020-07-21                      0                       0   \n",
       "\n",
       "            active_greater_than_6_months  \n",
       "date                                      \n",
       "2020-07-20                             0  \n",
       "2020-07-21                             0  \n",
       "2020-07-21                             0  \n",
       "2020-07-21                             0  \n",
       "2020-07-21                             0  \n",
       "\n",
       "[5 rows x 18 columns]"
      ]
     },
     "execution_count": 25,
     "metadata": {},
     "output_type": "execute_result"
    }
   ],
   "source": [
    "wd_bash.head()"
   ]
  },
  {
   "cell_type": "code",
   "execution_count": 26,
   "metadata": {},
   "outputs": [
    {
     "data": {
      "image/png": "[encoded data removed]",
      "text/plain": [
       "<Figure size 936x504 with 1 Axes>"
      ]
     },
     "metadata": {},
     "output_type": "display_data"
    }
   ],
   "source": [
    "wd_bash.groupby('user_id').page_viewed.count().plot(kind='bar', figsize=(13, 7), rot=45)\n",
    "\n",
    "plt.tick_params(labelsize=14, pad=5)\n",
    "plt.title('Bash Cohort\\nTotal Page Views Per User - Web Dev')\n",
    "plt.tight_layout();"
   ]
  },
  {
   "cell_type": "markdown",
   "metadata": {},
   "source": [
    "Bash Cohort Deep Dive\n",
    "- Greater than 800\n",
    "- Less than 200\n",
    "- Users 705, 732, 733"
   ]
  },
  {
   "cell_type": "code",
   "execution_count": 27,
   "metadata": {},
   "outputs": [],
   "source": [
    "# Filter Bash IDs\n",
    "bash_upper_ids = wd_bash.groupby('user_id').page_viewed.count()[wd_bash.groupby('user_id').page_viewed.count() > 800].index.to_list()\n",
    "bash_lower_ids = wd_bash.groupby('user_id').page_viewed.count()[wd_bash.groupby('user_id').page_viewed.count() < 200].index.to_list()"
   ]
  },
  {
   "cell_type": "code",
   "execution_count": 28,
   "metadata": {},
   "outputs": [
    {
     "data": {
      "text/plain": [
       "user_id  last_access\n",
       "705      2020-11-02      955\n",
       "732      2020-11-02     1100\n",
       "733      2020-11-02      805\n",
       "dtype: int64"
      ]
     },
     "execution_count": 28,
     "metadata": {},
     "output_type": "execute_result"
    }
   ],
   "source": [
    "# Users with greater than 800 page views\n",
    "bash_upper = wd_bash.loc[wd_bash.user_id.isin(bash_upper_ids)]\n",
    "bash_upper.groupby(by=['user_id', 'last_access']).size()"
   ]
  },
  {
   "cell_type": "code",
   "execution_count": 29,
   "metadata": {},
   "outputs": [
    {
     "data": {
      "text/plain": [
       "user_id  last_access\n",
       "702      2020-08-03      78\n",
       "704      2020-11-02     127\n",
       "734      2020-08-31      90\n",
       "784      2020-11-02      75\n",
       "dtype: int64"
      ]
     },
     "execution_count": 29,
     "metadata": {},
     "output_type": "execute_result"
    }
   ],
   "source": [
    "# Users with less than 200 page views\n",
    "bash_lower = wd_bash.loc[wd_bash.user_id.isin(bash_lower_ids)]\n",
    "bash_lower.groupby(by=['user_id', 'last_access']).size()"
   ]
  },
  {
   "cell_type": "markdown",
   "metadata": {},
   "source": [
    "### User 705"
   ]
  },
  {
   "cell_type": "code",
   "execution_count": 30,
   "metadata": {},
   "outputs": [
    {
     "data": {
      "text/plain": [
       "appendix/extra-challenges/basic-challenges    43\n",
       "jquery                                        30\n",
       "javascript-i                                  30\n",
       "javascript-ii                                 27\n",
       "html-css/css-ii/bootstrap-introduction        20\n",
       "javascript-i/arrays/manipulating              17\n",
       "javascript-i/arrays                           17\n",
       "jquery/selectors                              15\n",
       "java-i/methods                                15\n",
       "java-ii                                       15\n",
       "Name: page_viewed, dtype: int64"
      ]
     },
     "execution_count": 30,
     "metadata": {},
     "output_type": "execute_result"
    }
   ],
   "source": [
    "user_705 = wd_bash.loc[wd_bash.user_id==705]\n",
    "user_705.page_viewed.value_counts().nlargest(10)"
   ]
  },
  {
   "cell_type": "code",
   "execution_count": 31,
   "metadata": {},
   "outputs": [
    {
     "data": {
      "text/plain": [
       "page_viewed                     149\n",
       "user_id                           1\n",
       "cohort_id                         1\n",
       "ip                                2\n",
       "cohort_name                       1\n",
       "program_start                     1\n",
       "end_date                          1\n",
       "program_id                        1\n",
       "program_type                      1\n",
       "has_graduated                     1\n",
       "first_access                      1\n",
       "last_access                       1\n",
       "days_with_access                  1\n",
       "active_within_5_days              1\n",
       "active_within_1_month             1\n",
       "active_within_3_months            1\n",
       "active_within_6_months            1\n",
       "active_greater_than_6_months      1\n",
       "dtype: int64"
      ]
     },
     "execution_count": 31,
     "metadata": {},
     "output_type": "execute_result"
    }
   ],
   "source": [
    "user_705.nunique()"
   ]
  },
  {
   "cell_type": "markdown",
   "metadata": {},
   "source": [
    "### User 732"
   ]
  },
  {
   "cell_type": "code",
   "execution_count": 32,
   "metadata": {},
   "outputs": [
    {
     "data": {
      "text/plain": [
       "javascript-i/introduction                 132\n",
       "java-ii                                    33\n",
       "jquery                                     23\n",
       "html-css/css-ii/bootstrap-grid-system      21\n",
       "javascript-i                               21\n",
       "html-css/css-ii/bootstrap-introduction     19\n",
       "javascript-ii/promises                     17\n",
       "java-ii/object-oriented-programming        17\n",
       "java-i                                     17\n",
       "html-css                                   17\n",
       "Name: page_viewed, dtype: int64"
      ]
     },
     "execution_count": 32,
     "metadata": {},
     "output_type": "execute_result"
    }
   ],
   "source": [
    "user_732 = wd_bash.loc[wd_bash.user_id==732]\n",
    "user_732.page_viewed.value_counts().nlargest(10)"
   ]
  },
  {
   "cell_type": "code",
   "execution_count": 33,
   "metadata": {},
   "outputs": [
    {
     "data": {
      "text/plain": [
       "page_viewed                     146\n",
       "user_id                           1\n",
       "cohort_id                         1\n",
       "ip                                1\n",
       "cohort_name                       1\n",
       "program_start                     1\n",
       "end_date                          1\n",
       "program_id                        1\n",
       "program_type                      1\n",
       "has_graduated                     1\n",
       "first_access                      1\n",
       "last_access                       1\n",
       "days_with_access                  1\n",
       "active_within_5_days              1\n",
       "active_within_1_month             1\n",
       "active_within_3_months            1\n",
       "active_within_6_months            1\n",
       "active_greater_than_6_months      1\n",
       "dtype: int64"
      ]
     },
     "execution_count": 33,
     "metadata": {},
     "output_type": "execute_result"
    }
   ],
   "source": [
    "user_732.nunique()"
   ]
  },
  {
   "cell_type": "markdown",
   "metadata": {},
   "source": [
    "### User 733"
   ]
  },
  {
   "cell_type": "code",
   "execution_count": 34,
   "metadata": {},
   "outputs": [
    {
     "data": {
      "text/plain": [
       "jquery                                   22\n",
       "examples/css/css_selectors.html          22\n",
       "java-i/control-statements-and-loops      18\n",
       "html-css/css-ii/bootstrap-grid-system    17\n",
       "javascript-i                             15\n",
       "mysql/databases                          15\n",
       "mysql                                    15\n",
       "java-ii/arrays                           15\n",
       "java-i/syntax-types-and-variables        14\n",
       "java-ii                                  14\n",
       "Name: page_viewed, dtype: int64"
      ]
     },
     "execution_count": 34,
     "metadata": {},
     "output_type": "execute_result"
    }
   ],
   "source": [
    "user_733 = wd_bash.loc[wd_bash.user_id==733]\n",
    "user_733.page_viewed.value_counts().nlargest(10)"
   ]
  },
  {
   "cell_type": "code",
   "execution_count": 35,
   "metadata": {},
   "outputs": [
    {
     "data": {
      "text/plain": [
       "page_viewed                     137\n",
       "user_id                           1\n",
       "cohort_id                         1\n",
       "ip                                9\n",
       "cohort_name                       1\n",
       "program_start                     1\n",
       "end_date                          1\n",
       "program_id                        1\n",
       "program_type                      1\n",
       "has_graduated                     1\n",
       "first_access                      1\n",
       "last_access                       1\n",
       "days_with_access                  1\n",
       "active_within_5_days              1\n",
       "active_within_1_month             1\n",
       "active_within_3_months            1\n",
       "active_within_6_months            1\n",
       "active_greater_than_6_months      1\n",
       "dtype: int64"
      ]
     },
     "execution_count": 35,
     "metadata": {},
     "output_type": "execute_result"
    }
   ],
   "source": [
    "user_733.nunique()"
   ]
  },
  {
   "cell_type": "code",
   "execution_count": 36,
   "metadata": {},
   "outputs": [
    {
     "data": {
      "text/plain": [
       "ip\n",
       "104.219.136.34    613\n",
       "107.77.217.201      4\n",
       "107.77.217.231      7\n",
       "107.77.217.70       2\n",
       "107.77.220.169     34\n",
       "107.77.220.6       12\n",
       "107.77.221.209     30\n",
       "107.77.222.142      1\n",
       "66.90.156.125     102\n",
       "dtype: int64"
      ]
     },
     "execution_count": 36,
     "metadata": {},
     "output_type": "execute_result"
    }
   ],
   "source": [
    "user_733.groupby('ip').size()"
   ]
  },
  {
   "cell_type": "markdown",
   "metadata": {},
   "source": [
    "### Bash Users Review\n",
    "1. Users 78 and 90 must have dropped the course.\n",
    "2. Nothing out of the ordinary with users 705 and 732.\n",
    "3. User 705 is doing extra credit. They've accessed `appendix/extra-challenges/basic-challenges` 43 times.\n",
    "4. User 733 has 9 ip addresses:\n",
    "    1. San Antonio ip 66.90.156.125\n",
    "    2. Atascosa (South of San Antonio) ip 104.219.136.34\n",
    "    3. The rest mobile hotspots with a Houston Area Code.\n",
    ">    Everything checks out"
   ]
  },
  {
   "cell_type": "markdown",
   "metadata": {},
   "source": [
    "## Jupiter"
   ]
  },
  {
   "cell_type": "code",
   "execution_count": 37,
   "metadata": {},
   "outputs": [
    {
     "data": {
      "image/png": "[encoded data removed]",
      "text/plain": [
       "<Figure size 936x504 with 1 Axes>"
      ]
     },
     "metadata": {},
     "output_type": "display_data"
    }
   ],
   "source": [
    "wd_jupiter.groupby('user_id').page_viewed.count().plot(kind='bar', figsize=(13, 7), rot=45)\n",
    "\n",
    "plt.tick_params(labelsize=14, pad=5)\n",
    "plt.title('Jupiter Cohort\\nTotal Page Views Per User - Web Dev')\n",
    "plt.tight_layout();"
   ]
  },
  {
   "cell_type": "markdown",
   "metadata": {},
   "source": [
    "Jupiter Cohort Deep Dive\n",
    "- Greater than 400\n",
    "- Less than 200\n",
    "- Users 753 and 764"
   ]
  },
  {
   "cell_type": "code",
   "execution_count": 38,
   "metadata": {},
   "outputs": [],
   "source": [
    "jup_upper_ids = wd_jupiter.groupby('user_id').page_viewed.count()[wd_jupiter.groupby('user_id').page_viewed.count() > 300].index.to_list()\n",
    "jup_lower_ids = wd_jupiter.groupby('user_id').page_viewed.count()[wd_jupiter.groupby('user_id').page_viewed.count() < 150].index.to_list()"
   ]
  },
  {
   "cell_type": "code",
   "execution_count": 39,
   "metadata": {},
   "outputs": [
    {
     "data": {
      "text/plain": [
       "user_id  last_access\n",
       "750      2020-11-02     311\n",
       "752      2020-10-26     391\n",
       "753      2020-11-02     453\n",
       "754      2020-11-02     318\n",
       "759      2020-11-02     310\n",
       "760      2020-11-02     382\n",
       "761      2020-11-02     317\n",
       "764      2020-11-02     556\n",
       "774      2020-11-02     329\n",
       "776      2020-11-02     354\n",
       "dtype: int64"
      ]
     },
     "execution_count": 39,
     "metadata": {},
     "output_type": "execute_result"
    }
   ],
   "source": [
    "# Users with more than 400 page views\n",
    "jup_upper = wd_jupiter.loc[wd_jupiter.user_id.isin(jup_upper_ids)]\n",
    "jup_upper.groupby(by=['user_id', 'last_access']).size()"
   ]
  },
  {
   "cell_type": "code",
   "execution_count": 40,
   "metadata": {},
   "outputs": [
    {
     "data": {
      "text/plain": [
       "user_id  last_access\n",
       "758      2020-10-21     119\n",
       "762      2020-11-02     146\n",
       "766      2020-11-02     101\n",
       "772      2020-09-23      24\n",
       "dtype: int64"
      ]
     },
     "execution_count": 40,
     "metadata": {},
     "output_type": "execute_result"
    }
   ],
   "source": [
    "# Users with less than 200 page views\n",
    "jup_lower = wd_jupiter.loc[wd_jupiter.user_id.isin(jup_lower_ids)]\n",
    "jup_lower.groupby(by=['user_id', 'last_access']).size()"
   ]
  },
  {
   "cell_type": "markdown",
   "metadata": {},
   "source": [
    "#### User 753"
   ]
  },
  {
   "cell_type": "code",
   "execution_count": 41,
   "metadata": {},
   "outputs": [
    {
     "data": {
      "text/plain": [
       "javascript-i                               48\n",
       "html-css                                   41\n",
       "javascript-i/functions                     25\n",
       "html-css/css-i/selectors-and-properties    19\n",
       "html-css/css-ii/bootstrap-grid-system      18\n",
       "html-css/css-i/box-model                   18\n",
       "javascript-i/arrays                        18\n",
       "javascript-i/arrays/manipulating           17\n",
       "html-css/css-ii/media-queries              16\n",
       "javascript-i/conditionals                  16\n",
       "Name: page_viewed, dtype: int64"
      ]
     },
     "execution_count": 41,
     "metadata": {},
     "output_type": "execute_result"
    }
   ],
   "source": [
    "user_753 = wd_jupiter.loc[wd_jupiter.user_id==753]\n",
    "user_753.page_viewed.value_counts().nlargest(10)"
   ]
  },
  {
   "cell_type": "code",
   "execution_count": 42,
   "metadata": {},
   "outputs": [
    {
     "data": {
      "text/plain": [
       "page_viewed                     65\n",
       "user_id                          1\n",
       "cohort_id                        1\n",
       "ip                               2\n",
       "cohort_name                      1\n",
       "program_start                    1\n",
       "end_date                         1\n",
       "program_id                       1\n",
       "program_type                     1\n",
       "has_graduated                    1\n",
       "first_access                     1\n",
       "last_access                      1\n",
       "days_with_access                 1\n",
       "active_within_5_days             1\n",
       "active_within_1_month            1\n",
       "active_within_3_months           1\n",
       "active_within_6_months           1\n",
       "active_greater_than_6_months     1\n",
       "dtype: int64"
      ]
     },
     "execution_count": 42,
     "metadata": {},
     "output_type": "execute_result"
    }
   ],
   "source": [
    "user_753.nunique()"
   ]
  },
  {
   "cell_type": "markdown",
   "metadata": {},
   "source": [
    "#### User 764"
   ]
  },
  {
   "cell_type": "code",
   "execution_count": 43,
   "metadata": {},
   "outputs": [
    {
     "data": {
      "text/plain": [
       "html-css/css-ii/bootstrap-introduction                                       37\n",
       "javascript-i/javascript-with-html                                            30\n",
       "html-css/css-ii/media-queries                                                26\n",
       "javascript-i/introduction/working-with-data-types-operators-and-variables    26\n",
       "html-css/css-ii/bootstrap-grid-system                                        26\n",
       "html-css/elements                                                            23\n",
       "html-css/css-i/flexbox/flexbox-fundamentals                                  20\n",
       "html-css/css-i/positioning                                                   19\n",
       "html-css/forms                                                               19\n",
       "javascript-i/functions                                                       18\n",
       "Name: page_viewed, dtype: int64"
      ]
     },
     "execution_count": 43,
     "metadata": {},
     "output_type": "execute_result"
    }
   ],
   "source": [
    "user_764 = wd_jupiter.loc[wd_jupiter.user_id==764]\n",
    "user_764.page_viewed.value_counts().nlargest(10)"
   ]
  },
  {
   "cell_type": "code",
   "execution_count": 44,
   "metadata": {},
   "outputs": [
    {
     "data": {
      "text/plain": [
       "page_viewed                     71\n",
       "user_id                          1\n",
       "cohort_id                        1\n",
       "ip                               3\n",
       "cohort_name                      1\n",
       "program_start                    1\n",
       "end_date                         1\n",
       "program_id                       1\n",
       "program_type                     1\n",
       "has_graduated                    1\n",
       "first_access                     1\n",
       "last_access                      1\n",
       "days_with_access                 1\n",
       "active_within_5_days             1\n",
       "active_within_1_month            1\n",
       "active_within_3_months           1\n",
       "active_within_6_months           1\n",
       "active_greater_than_6_months     1\n",
       "dtype: int64"
      ]
     },
     "execution_count": 44,
     "metadata": {},
     "output_type": "execute_result"
    }
   ],
   "source": [
    "user_764.nunique()"
   ]
  },
  {
   "cell_type": "markdown",
   "metadata": {},
   "source": [
    "### Jupiter Users Review\n",
    "1. Naturally users with more views access the curriculum more.\n",
    "2. Users 772 and 758 may have dropped the course.\n",
    "3. Users 753 and 764 access javascript and html-css pages the most. Check projects, quiz grades, and github repository for comprehension."
   ]
  },
  {
   "cell_type": "markdown",
   "metadata": {},
   "source": [
    "# Current Data Science Students"
   ]
  },
  {
   "cell_type": "code",
   "execution_count": 45,
   "metadata": {},
   "outputs": [
    {
     "data": {
      "image/png": "[encoded data removed]",
      "text/plain": [
       "<Figure size 936x504 with 1 Axes>"
      ]
     },
     "metadata": {},
     "output_type": "display_data"
    }
   ],
   "source": [
    "ds_darden.groupby('user_id').page_viewed.count().plot(kind='bar', figsize=(13, 7), rot=45)\n",
    "\n",
    "plt.tick_params(labelsize=14, pad=5)\n",
    "plt.title('Darden Cohort\\nTotal Page Views Per User - Data Science')\n",
    "plt.tight_layout();"
   ]
  },
  {
   "cell_type": "markdown",
   "metadata": {},
   "source": [
    "Darden Cohort Deep Dive\n",
    "- Total page views greater than 1000\n",
    "- Total page views less than 500\n",
    "- Users 685, 689, 698"
   ]
  },
  {
   "cell_type": "code",
   "execution_count": 46,
   "metadata": {},
   "outputs": [],
   "source": [
    "darden_upper_ids = ds_darden.groupby('user_id').page_viewed.count()[ds_darden.groupby('user_id').page_viewed.count() > 1000].index.to_list()\n",
    "darden_lower_ids = ds_darden.groupby('user_id').page_viewed.count()[ds_darden.groupby('user_id').page_viewed.count() < 500].index.to_list()"
   ]
  },
  {
   "cell_type": "code",
   "execution_count": 47,
   "metadata": {},
   "outputs": [
    {
     "data": {
      "text/plain": [
       "user_id  last_access\n",
       "682      2020-11-02     1003\n",
       "681      2020-10-23     1144\n",
       "692      2020-11-02     1191\n",
       "688      2020-11-02     1237\n",
       "699      2020-09-23     1338\n",
       "698      2020-11-02     1397\n",
       "689      2020-10-22     1512\n",
       "685      2020-11-02     2326\n",
       "dtype: int64"
      ]
     },
     "execution_count": 47,
     "metadata": {},
     "output_type": "execute_result"
    }
   ],
   "source": [
    "# Users with more than 1000 page views\n",
    "darden_upper = ds_darden.loc[ds_darden.user_id.isin(darden_upper_ids)]\n",
    "darden_upper.groupby(by=['user_id', 'last_access']).size().sort_values()"
   ]
  },
  {
   "cell_type": "code",
   "execution_count": 48,
   "metadata": {},
   "outputs": [
    {
     "data": {
      "text/plain": [
       "user_id  last_access\n",
       "679      2020-07-14      10\n",
       "683      2020-08-07     148\n",
       "693      2020-11-02     316\n",
       "694      2020-11-02     459\n",
       "697      2020-07-13      12\n",
       "739      2020-10-20     457\n",
       "780      2020-11-02      44\n",
       "781      2020-11-02      83\n",
       "783      2020-11-02      52\n",
       "785      2020-11-02      29\n",
       "dtype: int64"
      ]
     },
     "execution_count": 48,
     "metadata": {},
     "output_type": "execute_result"
    }
   ],
   "source": [
    "# Users with less than 500 page views\n",
    "darden_lower = ds_darden.loc[ds_darden.user_id.isin(darden_lower_ids)]\n",
    "darden_lower.groupby(by=['user_id', 'last_access']).size()"
   ]
  },
  {
   "cell_type": "markdown",
   "metadata": {},
   "source": [
    "#### User 685"
   ]
  },
  {
   "cell_type": "code",
   "execution_count": 49,
   "metadata": {},
   "outputs": [
    {
     "data": {
      "text/plain": [
       "classification/overview                     183\n",
       "classification/scale_features_or_not.svg    168\n",
       "sql/mysql-overview                           93\n",
       "python/functions                             60\n",
       "classification/logistic-regression           57\n",
       "classification/prep                          50\n",
       "python/dataframes                            46\n",
       "1-fundamentals/DataToAction_v2.jpg           45\n",
       "1-fundamentals/1.2-data-science-pipeline     44\n",
       "classification/explore                       42\n",
       "Name: page_viewed, dtype: int64"
      ]
     },
     "execution_count": 49,
     "metadata": {},
     "output_type": "execute_result"
    }
   ],
   "source": [
    "user_685 = ds_darden.loc[ds_darden.user_id==685]\n",
    "user_685.page_viewed.value_counts().nlargest(10)"
   ]
  },
  {
   "cell_type": "code",
   "execution_count": 50,
   "metadata": {},
   "outputs": [
    {
     "data": {
      "text/plain": [
       "page_viewed                     186\n",
       "user_id                           1\n",
       "cohort_id                         1\n",
       "ip                                3\n",
       "cohort_name                       1\n",
       "program_start                     1\n",
       "end_date                          1\n",
       "program_id                        1\n",
       "program_type                      1\n",
       "has_graduated                     1\n",
       "first_access                      1\n",
       "last_access                       1\n",
       "days_with_access                  1\n",
       "active_within_5_days              1\n",
       "active_within_1_month             1\n",
       "active_within_3_months            1\n",
       "active_within_6_months            1\n",
       "active_greater_than_6_months      1\n",
       "dtype: int64"
      ]
     },
     "execution_count": 50,
     "metadata": {},
     "output_type": "execute_result"
    }
   ],
   "source": [
    "user_685.nunique()"
   ]
  },
  {
   "cell_type": "markdown",
   "metadata": {},
   "source": [
    "#### User 689"
   ]
  },
  {
   "cell_type": "code",
   "execution_count": 51,
   "metadata": {},
   "outputs": [
    {
     "data": {
      "text/plain": [
       "classification/overview                     56\n",
       "sql/mysql-overview                          44\n",
       "classification/acquire                      41\n",
       "1-fundamentals/modern-data-scientist.jpg    39\n",
       "1-fundamentals/AI-ML-DL-timeline.jpg        39\n",
       "classification/scale_features_or_not.svg    30\n",
       "1-fundamentals/1.1-intro-to-data-science    30\n",
       "classification/prep                         30\n",
       "classification/logistic-regression          23\n",
       "1-fundamentals/1.2-data-science-pipeline    21\n",
       "Name: page_viewed, dtype: int64"
      ]
     },
     "execution_count": 51,
     "metadata": {},
     "output_type": "execute_result"
    }
   ],
   "source": [
    "user_689 = ds_darden.loc[ds_darden.user_id==689]\n",
    "user_689.page_viewed.value_counts().nlargest(10)"
   ]
  },
  {
   "cell_type": "code",
   "execution_count": 52,
   "metadata": {},
   "outputs": [
    {
     "data": {
      "text/plain": [
       "page_viewed                     157\n",
       "user_id                           1\n",
       "cohort_id                         1\n",
       "ip                                6\n",
       "cohort_name                       1\n",
       "program_start                     1\n",
       "end_date                          1\n",
       "program_id                        1\n",
       "program_type                      1\n",
       "has_graduated                     1\n",
       "first_access                      1\n",
       "last_access                       1\n",
       "days_with_access                  1\n",
       "active_within_5_days              1\n",
       "active_within_1_month             1\n",
       "active_within_3_months            1\n",
       "active_within_6_months            1\n",
       "active_greater_than_6_months      1\n",
       "dtype: int64"
      ]
     },
     "execution_count": 52,
     "metadata": {},
     "output_type": "execute_result"
    }
   ],
   "source": [
    "user_689.nunique()"
   ]
  },
  {
   "cell_type": "code",
   "execution_count": 53,
   "metadata": {},
   "outputs": [
    {
     "data": {
      "text/plain": [
       "ip\n",
       "104.48.215.85        45\n",
       "206.193.219.171      10\n",
       "24.173.208.242       48\n",
       "70.114.45.119         7\n",
       "72.181.103.160        3\n",
       "72.181.127.233     1399\n",
       "dtype: int64"
      ]
     },
     "execution_count": 53,
     "metadata": {},
     "output_type": "execute_result"
    }
   ],
   "source": [
    "user_689.groupby('ip').size()"
   ]
  },
  {
   "cell_type": "markdown",
   "metadata": {},
   "source": [
    "#### User 698"
   ]
  },
  {
   "cell_type": "code",
   "execution_count": 54,
   "metadata": {},
   "outputs": [
    {
     "data": {
      "text/plain": [
       "1-fundamentals/AI-ML-DL-timeline.jpg        62\n",
       "1-fundamentals/modern-data-scientist.jpg    62\n",
       "1-fundamentals/1.1-intro-to-data-science    60\n",
       "sql/group-by                                29\n",
       "python/data-types-and-variables             28\n",
       "classification/evaluation                   26\n",
       "python/control-structures                   22\n",
       "clustering/project                          19\n",
       "classification/project                      19\n",
       "sql/basic-statements                        17\n",
       "Name: page_viewed, dtype: int64"
      ]
     },
     "execution_count": 54,
     "metadata": {},
     "output_type": "execute_result"
    }
   ],
   "source": [
    "user_698 = ds_darden.loc[ds_darden.user_id==698]\n",
    "user_698.page_viewed.value_counts().nlargest(10)"
   ]
  },
  {
   "cell_type": "code",
   "execution_count": 55,
   "metadata": {},
   "outputs": [
    {
     "data": {
      "text/plain": [
       "page_viewed                     212\n",
       "user_id                           1\n",
       "cohort_id                         1\n",
       "ip                               15\n",
       "cohort_name                       1\n",
       "program_start                     1\n",
       "end_date                          1\n",
       "program_id                        1\n",
       "program_type                      1\n",
       "has_graduated                     1\n",
       "first_access                      1\n",
       "last_access                       1\n",
       "days_with_access                  1\n",
       "active_within_5_days              1\n",
       "active_within_1_month             1\n",
       "active_within_3_months            1\n",
       "active_within_6_months            1\n",
       "active_greater_than_6_months      1\n",
       "dtype: int64"
      ]
     },
     "execution_count": 55,
     "metadata": {},
     "output_type": "execute_result"
    }
   ],
   "source": [
    "user_698.nunique()"
   ]
  },
  {
   "cell_type": "code",
   "execution_count": 56,
   "metadata": {},
   "outputs": [
    {
     "data": {
      "text/plain": [
       "ip\n",
       "24.28.145.253    125\n",
       "24.28.146.155     58\n",
       "24.28.150.196    234\n",
       "67.11.185.104    374\n",
       "67.11.185.135    159\n",
       "67.11.185.253     44\n",
       "67.11.186.90      97\n",
       "67.11.56.165      65\n",
       "67.11.56.174       6\n",
       "67.11.56.54      148\n",
       "70.117.28.76      30\n",
       "99.203.212.61      1\n",
       "99.203.26.44       1\n",
       "99.203.90.58      47\n",
       "99.203.91.15       8\n",
       "dtype: int64"
      ]
     },
     "execution_count": 56,
     "metadata": {},
     "output_type": "execute_result"
    }
   ],
   "source": [
    "user_698.groupby('ip').size()"
   ]
  },
  {
   "cell_type": "markdown",
   "metadata": {},
   "source": [
    "### Darden Users Review\n",
    "1. Users 679, 683, 697, 739 may have dropped the course.\n",
    "2. User 682 has a Minnesota IP address. It must be a student who is remote learning out of state."
   ]
  },
  {
   "cell_type": "code",
   "execution_count": 57,
   "metadata": {},
   "outputs": [
    {
     "data": {
      "text/plain": [
       "682    981\n",
       "Name: user_id, dtype: int64"
      ]
     },
     "execution_count": 57,
     "metadata": {},
     "output_type": "execute_result"
    }
   ],
   "source": [
    "ds_darden.loc[ds_darden.ip == '68.54.110.249'].user_id.value_counts()"
   ]
  },
  {
   "cell_type": "markdown",
   "metadata": {},
   "source": [
    "# 4. Is there any suspicious activity, such as users/machines/etc accessing the curriculum who shouldn’t be? Does it appear that any web-scraping is happening? Are there any suspicious IP addresses? Any odd user-agents? "
   ]
  },
  {
   "cell_type": "code",
   "execution_count": 58,
   "metadata": {},
   "outputs": [],
   "source": [
    "ips = df.groupby(by=['cohort_id', 'cohort_name', 'user_id']).ip.nunique().nlargest(10)"
   ]
  },
  {
   "cell_type": "markdown",
   "metadata": {},
   "source": [
    "#### User 228 from Wrangell\n",
    "Hostname 173-239-232-33.accepts-exercise.com\n",
    "IP based in Houston, Chicago : Last access in December of 2018.\n",
    "- This user may have had access authorization revoked."
   ]
  },
  {
   "cell_type": "code",
   "execution_count": 59,
   "metadata": {},
   "outputs": [
    {
     "data": {
      "text/plain": [
       "last_access  ip             \n",
       "2018-12-20   97.105.19.58       175\n",
       "             99.52.75.127        47\n",
       "             173.239.232.143     37\n",
       "             173.239.232.174     31\n",
       "             173.239.232.141     28\n",
       "             173.239.232.148     28\n",
       "             173.239.232.77      28\n",
       "             173.239.232.99      27\n",
       "             173.239.232.67      26\n",
       "             173.239.232.33      25\n",
       "             173.239.232.79      24\n",
       "             173.239.232.123     22\n",
       "             173.239.232.137     22\n",
       "             173.239.232.56      22\n",
       "             205.251.148.130     21\n",
       "             173.239.232.106     19\n",
       "             199.116.115.137     19\n",
       "             173.239.232.108     18\n",
       "             192.171.117.210     18\n",
       "             173.239.232.170     17\n",
       "Name: ip, dtype: int64"
      ]
     },
     "execution_count": 59,
     "metadata": {},
     "output_type": "execute_result"
    }
   ],
   "source": [
    "df.loc[df.user_id == 228].groupby('last_access').ip.value_counts().nlargest(20)"
   ]
  },
  {
   "cell_type": "code",
   "execution_count": 60,
   "metadata": {},
   "outputs": [
    {
     "data": {
      "text/plain": [
       "last_access  ip             \n",
       "2020-10-07   97.105.19.58       499\n",
       "             173.127.40.170      32\n",
       "             72.128.136.219      18\n",
       "             173.127.36.190      12\n",
       "             67.11.236.189       10\n",
       "             184.203.6.32         7\n",
       "             184.226.102.146      7\n",
       "             184.226.17.171       7\n",
       "             72.169.80.174        7\n",
       "             173.149.249.154      6\n",
       "Name: ip, dtype: int64"
      ]
     },
     "execution_count": 60,
     "metadata": {},
     "output_type": "execute_result"
    }
   ],
   "source": [
    "# User has Satellite Internet : Last Access October 7th 2020\n",
    "df.loc[df.user_id == 530].groupby('last_access').ip.value_counts().nlargest(10)"
   ]
  },
  {
   "cell_type": "code",
   "execution_count": 61,
   "metadata": {},
   "outputs": [
    {
     "data": {
      "text/plain": [
       "last_access  ip             \n",
       "2020-10-31   205.251.148.146    27\n",
       "             205.251.148.178    26\n",
       "             173.239.232.29     24\n",
       "             205.251.151.18     23\n",
       "             173.239.232.164    21\n",
       "             74.81.88.34        19\n",
       "             205.251.148.186    18\n",
       "             74.81.88.66        18\n",
       "             74.81.88.42        15\n",
       "             205.251.151.42     13\n",
       "Name: ip, dtype: int64"
      ]
     },
     "execution_count": 61,
     "metadata": {},
     "output_type": "execute_result"
    }
   ],
   "source": [
    "df.loc[df.user_id == 533].groupby('last_access').ip.value_counts().nlargest(10)"
   ]
  },
  {
   "cell_type": "markdown",
   "metadata": {},
   "source": [
    "# 5. At some point in the last year, ability for students and alumni to cross-access curriculum (web dev to ds, ds to web dev) should have been shut off. Do you see any evidence of that happening? Did it happen before? "
   ]
  },
  {
   "cell_type": "code",
   "execution_count": 62,
   "metadata": {},
   "outputs": [],
   "source": [
    "df = prep_log_cohort_data(get_log_data(), get_cohort_data(), explore=True).sort_index()\n",
    "remove_pages = ['/', 'toc', 'appendix', 'index.html', 'appendix/documentation'\n",
    "                'search/search_index.json', 'mkdocs/search_index.json']\n",
    "\n",
    "# Clean page_viewed to remove logistic pages: Searches, Table of Contents, Appendix\n",
    "df = df.loc[~df.page_viewed.isin(remove_pages)]\n",
    "df = df.loc[~(df.cohort_name == 'Staff')]"
   ]
  },
  {
   "cell_type": "code",
   "execution_count": 63,
   "metadata": {},
   "outputs": [
    {
     "data": {
      "text/html": [
       "<div>\n",
       "<style scoped>\n",
       "    .dataframe tbody tr th:only-of-type {\n",
       "        vertical-align: middle;\n",
       "    }\n",
       "\n",
       "    .dataframe tbody tr th {\n",
       "        vertical-align: top;\n",
       "    }\n",
       "\n",
       "    .dataframe thead th {\n",
       "        text-align: right;\n",
       "    }\n",
       "</style>\n",
       "<table border=\"1\" class=\"dataframe\">\n",
       "  <thead>\n",
       "    <tr style=\"text-align: right;\">\n",
       "      <th></th>\n",
       "      <th>page_viewed</th>\n",
       "      <th>user_id</th>\n",
       "      <th>cohort_id</th>\n",
       "      <th>ip</th>\n",
       "      <th>cohort_name</th>\n",
       "      <th>program_start</th>\n",
       "      <th>end_date</th>\n",
       "      <th>...</th>\n",
       "      <th>last_access</th>\n",
       "      <th>days_with_access</th>\n",
       "      <th>active_within_5_days</th>\n",
       "      <th>active_within_1_month</th>\n",
       "      <th>active_within_3_months</th>\n",
       "      <th>active_within_6_months</th>\n",
       "      <th>active_greater_than_6_months</th>\n",
       "    </tr>\n",
       "    <tr>\n",
       "      <th>date</th>\n",
       "      <th></th>\n",
       "      <th></th>\n",
       "      <th></th>\n",
       "      <th></th>\n",
       "      <th></th>\n",
       "      <th></th>\n",
       "      <th></th>\n",
       "      <th></th>\n",
       "      <th></th>\n",
       "      <th></th>\n",
       "      <th></th>\n",
       "      <th></th>\n",
       "      <th></th>\n",
       "      <th></th>\n",
       "      <th></th>\n",
       "    </tr>\n",
       "  </thead>\n",
       "  <tbody>\n",
       "    <tr>\n",
       "      <th>2018-01-26</th>\n",
       "      <td>javascript-i/functions</td>\n",
       "      <td>12</td>\n",
       "      <td>22</td>\n",
       "      <td>97.105.19.61</td>\n",
       "      <td>Teddy</td>\n",
       "      <td>2018-01-08</td>\n",
       "      <td>2018-05-17</td>\n",
       "      <td>...</td>\n",
       "      <td>2020-10-05</td>\n",
       "      <td>983</td>\n",
       "      <td>0</td>\n",
       "      <td>1</td>\n",
       "      <td>0</td>\n",
       "      <td>0</td>\n",
       "      <td>0</td>\n",
       "    </tr>\n",
       "    <tr>\n",
       "      <th>2018-01-26</th>\n",
       "      <td>javascript-i/javascript-with-html</td>\n",
       "      <td>12</td>\n",
       "      <td>22</td>\n",
       "      <td>97.105.19.61</td>\n",
       "      <td>Teddy</td>\n",
       "      <td>2018-01-08</td>\n",
       "      <td>2018-05-17</td>\n",
       "      <td>...</td>\n",
       "      <td>2020-10-05</td>\n",
       "      <td>983</td>\n",
       "      <td>0</td>\n",
       "      <td>1</td>\n",
       "      <td>0</td>\n",
       "      <td>0</td>\n",
       "      <td>0</td>\n",
       "    </tr>\n",
       "    <tr>\n",
       "      <th>2018-01-26</th>\n",
       "      <td>javascript-i/introduction/operators</td>\n",
       "      <td>12</td>\n",
       "      <td>22</td>\n",
       "      <td>97.105.19.61</td>\n",
       "      <td>Teddy</td>\n",
       "      <td>2018-01-08</td>\n",
       "      <td>2018-05-17</td>\n",
       "      <td>...</td>\n",
       "      <td>2020-10-05</td>\n",
       "      <td>983</td>\n",
       "      <td>0</td>\n",
       "      <td>1</td>\n",
       "      <td>0</td>\n",
       "      <td>0</td>\n",
       "      <td>0</td>\n",
       "    </tr>\n",
       "    <tr>\n",
       "      <th>2018-01-26</th>\n",
       "      <td>javascript-i/introduction/variables</td>\n",
       "      <td>12</td>\n",
       "      <td>22</td>\n",
       "      <td>97.105.19.61</td>\n",
       "      <td>Teddy</td>\n",
       "      <td>2018-01-08</td>\n",
       "      <td>2018-05-17</td>\n",
       "      <td>...</td>\n",
       "      <td>2020-10-05</td>\n",
       "      <td>983</td>\n",
       "      <td>0</td>\n",
       "      <td>1</td>\n",
       "      <td>0</td>\n",
       "      <td>0</td>\n",
       "      <td>0</td>\n",
       "    </tr>\n",
       "    <tr>\n",
       "      <th>2018-01-26</th>\n",
       "      <td>javascript-i/introduction/working-with-data-ty...</td>\n",
       "      <td>12</td>\n",
       "      <td>22</td>\n",
       "      <td>97.105.19.61</td>\n",
       "      <td>Teddy</td>\n",
       "      <td>2018-01-08</td>\n",
       "      <td>2018-05-17</td>\n",
       "      <td>...</td>\n",
       "      <td>2020-10-05</td>\n",
       "      <td>983</td>\n",
       "      <td>0</td>\n",
       "      <td>1</td>\n",
       "      <td>0</td>\n",
       "      <td>0</td>\n",
       "      <td>0</td>\n",
       "    </tr>\n",
       "  </tbody>\n",
       "</table>\n",
       "<p>5 rows × 18 columns</p>\n",
       "</div>"
      ],
      "text/plain": [
       "                                                  page_viewed  user_id  \\\n",
       "date                                                                     \n",
       "2018-01-26                             javascript-i/functions       12   \n",
       "2018-01-26                  javascript-i/javascript-with-html       12   \n",
       "2018-01-26                javascript-i/introduction/operators       12   \n",
       "2018-01-26                javascript-i/introduction/variables       12   \n",
       "2018-01-26  javascript-i/introduction/working-with-data-ty...       12   \n",
       "\n",
       "            cohort_id            ip cohort_name program_start   end_date  ...  \\\n",
       "date                                                                      ...   \n",
       "2018-01-26         22  97.105.19.61       Teddy    2018-01-08 2018-05-17  ...   \n",
       "2018-01-26         22  97.105.19.61       Teddy    2018-01-08 2018-05-17  ...   \n",
       "2018-01-26         22  97.105.19.61       Teddy    2018-01-08 2018-05-17  ...   \n",
       "2018-01-26         22  97.105.19.61       Teddy    2018-01-08 2018-05-17  ...   \n",
       "2018-01-26         22  97.105.19.61       Teddy    2018-01-08 2018-05-17  ...   \n",
       "\n",
       "            last_access days_with_access  active_within_5_days  \\\n",
       "date                                                             \n",
       "2018-01-26   2020-10-05              983                     0   \n",
       "2018-01-26   2020-10-05              983                     0   \n",
       "2018-01-26   2020-10-05              983                     0   \n",
       "2018-01-26   2020-10-05              983                     0   \n",
       "2018-01-26   2020-10-05              983                     0   \n",
       "\n",
       "           active_within_1_month active_within_3_months  \\\n",
       "date                                                      \n",
       "2018-01-26                     1                      0   \n",
       "2018-01-26                     1                      0   \n",
       "2018-01-26                     1                      0   \n",
       "2018-01-26                     1                      0   \n",
       "2018-01-26                     1                      0   \n",
       "\n",
       "            active_within_6_months  active_greater_than_6_months  \n",
       "date                                                              \n",
       "2018-01-26                       0                             0  \n",
       "2018-01-26                       0                             0  \n",
       "2018-01-26                       0                             0  \n",
       "2018-01-26                       0                             0  \n",
       "2018-01-26                       0                             0  \n",
       "\n",
       "[5 rows x 18 columns]"
      ]
     },
     "execution_count": 63,
     "metadata": {},
     "output_type": "execute_result"
    }
   ],
   "source": [
    "df.head()"
   ]
  },
  {
   "cell_type": "code",
   "execution_count": 64,
   "metadata": {},
   "outputs": [],
   "source": [
    "wd = df.loc[df.program_id.isin([1, 2, 4])]\n",
    "ds = df.loc[df.program_id.isin([3])]"
   ]
  },
  {
   "cell_type": "code",
   "execution_count": 65,
   "metadata": {},
   "outputs": [],
   "source": [
    "ds_curriculum = ds_darden.page_viewed.value_counts().index.to_list()\n",
    "wd_curriculum = wd_bash.page_viewed.value_counts().index.to_list()"
   ]
  },
  {
   "cell_type": "markdown",
   "metadata": {},
   "source": [
    "### Web Dev Students Accessing Data Science Curriculum"
   ]
  },
  {
   "cell_type": "code",
   "execution_count": 66,
   "metadata": {},
   "outputs": [],
   "source": [
    "a = wd.loc[wd.page_viewed.isin(ds_curriculum)].groupby(by=['date', 'page_viewed']).user_id.nunique().reset_index().pivot(columns='page_viewed', index='date').fillna(0)"
   ]
  },
  {
   "cell_type": "code",
   "execution_count": 67,
   "metadata": {
    "scrolled": false
   },
   "outputs": [
    {
     "data": {
      "image/png": "[encoded data removed]",
      "text/plain": [
       "<Figure size 936x504 with 1 Axes>"
      ]
     },
     "metadata": {},
     "output_type": "display_data"
    }
   ],
   "source": [
    "a.plot(figsize=(13, 7))\n",
    "plt.legend().remove()"
   ]
  },
  {
   "cell_type": "markdown",
   "metadata": {},
   "source": [
    "### Data Science Students Accessing Web Dev Curriculum"
   ]
  },
  {
   "cell_type": "code",
   "execution_count": 68,
   "metadata": {},
   "outputs": [],
   "source": [
    "b = ds.loc[ds.page_viewed.isin(wd_curriculum)].groupby(by=['date', 'page_viewed']).user_id.nunique().reset_index().pivot(columns='page_viewed', index='date').fillna(0)"
   ]
  },
  {
   "cell_type": "code",
   "execution_count": 69,
   "metadata": {},
   "outputs": [
    {
     "data": {
      "image/png": "[encoded data removed]",
      "text/plain": [
       "<Figure size 936x504 with 1 Axes>"
      ]
     },
     "metadata": {},
     "output_type": "display_data"
    }
   ],
   "source": [
    "b.plot(figsize=(13, 7))\n",
    "plt.legend().remove()"
   ]
  },
  {
   "cell_type": "markdown",
   "metadata": {},
   "source": [
    "This never happened. Codeup recently created their data science program. There is significantly more cross-traffic in 2020 than in previous years."
   ]
  },
  {
   "cell_type": "markdown",
   "metadata": {},
   "source": [
    "# 6. What topics are grads continuing to reference after graduation and into their jobs (for each program)? "
   ]
  },
  {
   "cell_type": "code",
   "execution_count": 128,
   "metadata": {},
   "outputs": [],
   "source": [
    "df = prep_log_cohort_data(get_log_data(), get_cohort_data(), explore=True)\n",
    "df = df.loc[df.has_graduated == 1]\n",
    "remove_pages = ['/', 'toc', 'appendix', 'index.html', 'appendix/documentation'\n",
    "                'search/search_index.json', 'mkdocs/search_index.json']\n",
    "\n",
    "# Clean page_viewed to remove logistic pages: Searches, Table of Contents, Appendix\n",
    "df = df.loc[~df.page_viewed.isin(remove_pages)]\n",
    "df = df.loc[~(df.cohort_name == 'Staff')]\n",
    "df.page_viewed = df.page_viewed.replace('content/', '', regex=True)\n",
    "\n",
    "# Step 1.\n",
    "# Web Devlopment Cohorts\n",
    "web_dev_cohorts = df.loc[df.program_id.isin([1, 2, 4]) & (df.end_date <= '2020-06-01') & (df.end_date < df.index)]\n",
    "# Data Science Cohorts\n",
    "ds_cohorts = df.loc[(df.program_id == 3) & (df.index > '2020-01-30') & (df.end_date < '2021-01-12')]"
   ]
  },
  {
   "cell_type": "markdown",
   "metadata": {},
   "source": [
    "### After Graduation: Web Develpoment"
   ]
  },
  {
   "cell_type": "code",
   "execution_count": 129,
   "metadata": {},
   "outputs": [
    {
     "data": {
      "text/plain": [
       "javascript-i                           2298\n",
       "spring                                 2117\n",
       "html-css                               2028\n",
       "java-i                                 1657\n",
       "java-iii                               1641\n",
       "java-ii                                1601\n",
       "javascript-ii                          1469\n",
       "search/search_index.json               1351\n",
       "mysql                                  1300\n",
       "jquery                                 1203\n",
       "spring/fundamentals/controllers         963\n",
       "spring/setup                            927\n",
       "spring/fundamentals/views               881\n",
       "spring/fundamentals/repositories        812\n",
       "html-css/elements                       699\n",
       "java-i/introduction-to-java             674\n",
       "java-iii/servlets                       617\n",
       "java-i/syntax-types-and-variables       617\n",
       "java-iii/jsp-and-jstl                   612\n",
       "java-ii/object-oriented-programming     610\n",
       "Name: page_viewed, dtype: int64"
      ]
     },
     "execution_count": 129,
     "metadata": {},
     "output_type": "execute_result"
    }
   ],
   "source": [
    "web_dev_cohorts.page_viewed.value_counts().nlargest(20)"
   ]
  },
  {
   "cell_type": "code",
   "execution_count": 130,
   "metadata": {},
   "outputs": [
    {
     "data": {
      "text/plain": [
       "(0.729, 55.2]     251\n",
       "(55.2, 109.4]      73\n",
       "(109.4, 163.6]     33\n",
       "(163.6, 217.8]      8\n",
       "(217.8, 272.0]      4\n",
       "Name: page_viewed, dtype: int64"
      ]
     },
     "execution_count": 130,
     "metadata": {},
     "output_type": "execute_result"
    }
   ],
   "source": [
    "pd.cut(web_dev_cohorts.groupby(by=['user_id']).page_viewed.nunique(), bins=5).value_counts().sort_index()"
   ]
  },
  {
   "cell_type": "markdown",
   "metadata": {},
   "source": [
    "#### After Graduation: Web Develpoment Review\n",
    "Recent web dev grads consistently access javascript, spring, html-css, java-i, java-ii, java-iii."
   ]
  },
  {
   "cell_type": "markdown",
   "metadata": {},
   "source": [
    "### After Graduation: Data Science"
   ]
  },
  {
   "cell_type": "code",
   "execution_count": 131,
   "metadata": {},
   "outputs": [
    {
     "data": {
      "text/plain": [
       "6-regression/1-overview                              672\n",
       "search/search_index.json                             630\n",
       "1-fundamentals/modern-data-scientist.jpg             558\n",
       "1-fundamentals/AI-ML-DL-timeline.jpg                 555\n",
       "1-fundamentals/1.1-intro-to-data-science             550\n",
       "3-sql/1-mysql-overview                               480\n",
       "10-anomaly-detection/1-overview                      392\n",
       "10-anomaly-detection/AnomalyDetectionCartoon.jpeg    392\n",
       "4-python/8.4.3-dataframes                            273\n",
       "4-python/8.4.4-advanced-dataframes                   254\n",
       "4-python/3-data-types-and-variables                  242\n",
       "5-stats/4.2-compare-means                            225\n",
       "4-python/5-functions                                 212\n",
       "7-classification/6.1-logistic-regression             209\n",
       "3-sql/7-functions                                    209\n",
       "appendix/cli-git-overview                            209\n",
       "5-stats/2-simulation                                 204\n",
       "5-stats/3-probability-distributions                  189\n",
       "7-classification/3-prep                              183\n",
       "4-python/8.2-intro-to-matplotlib                     177\n",
       "Name: page_viewed, dtype: int64"
      ]
     },
     "execution_count": 131,
     "metadata": {},
     "output_type": "execute_result"
    }
   ],
   "source": [
    "ds_cohorts.page_viewed.value_counts().nlargest(20)"
   ]
  },
  {
   "cell_type": "code",
   "execution_count": 132,
   "metadata": {},
   "outputs": [
    {
     "data": {
      "text/plain": [
       "(0.711, 58.8]     14\n",
       "(58.8, 116.6]      8\n",
       "(116.6, 174.4]     8\n",
       "(174.4, 232.2]     9\n",
       "(232.2, 290.0]     1\n",
       "Name: page_viewed, dtype: int64"
      ]
     },
     "execution_count": 132,
     "metadata": {},
     "output_type": "execute_result"
    }
   ],
   "source": [
    "pd.cut(ds_cohorts.groupby(by=['user_id']).page_viewed.nunique(), bins=5).value_counts().sort_index()"
   ]
  },
  {
   "cell_type": "markdown",
   "metadata": {},
   "source": [
    "#### After Graduation : Data Science Review\n",
    "Recent data science grads consistently access regression, fundementals, mysql, anomaly detection, pandas dataframes, stats modules."
   ]
  },
  {
   "cell_type": "markdown",
   "metadata": {},
   "source": [
    "# 7. Which lessons are least accessed? "
   ]
  },
  {
   "cell_type": "code",
   "execution_count": 135,
   "metadata": {},
   "outputs": [
    {
     "data": {
      "text/plain": [
       "capstone/54                            1\n",
       "javascript-functions                   1\n",
       "7.03_Explore                           1\n",
       "appendix/further-reading/pagination    1\n",
       "6-regression/3.1-acquire-and-prep      1\n",
       "10.02.01_ParseText                     1\n",
       "capstone/52                            1\n",
       "students                               1\n",
       "codeup-exercises                       1\n",
       "students/468/notes                     1\n",
       "8.01_Acquire                           1\n",
       "student/create                         1\n",
       "postwork/dashboard.md                  1\n",
       "bom-and-dom/dom-events                 1\n",
       "13.01.02.02_TalkAndListen              1\n",
       "6.01.02_Acquirecsv                     1\n",
       "mysql/intro-to-mysql/index.html        1\n",
       "php                                    1\n",
       "appendix/postwork/pdf-parser.html      1\n",
       "capstone-workbook                      1\n",
       "html-css/elements-i/lists.html         1\n",
       "introduction-to-matplotlib             1\n",
       "java-ii/file-op                        1\n",
       "codeupexercises                        1\n",
       "html-css/forms-i/index.html            1\n",
       "mysql/clauses/limit-order-by           1\n",
       "quiz/submit/2186                       1\n",
       "ajax-api                               1\n",
       "examples/gitbook/images/favicon.ico    1\n",
       "13.03_Bokeh                            1\n",
       "modules                                1\n",
       "6.04.07_Ensemble                       1\n",
       "13.01.03_Refine                        1\n",
       "2.0_Intro_Stats                        1\n",
       "4-python/7.1-ds-libraries-overview     1\n",
       "loops.html                             1\n",
       "src                                    1\n",
       "6.04.05_SVM                            1\n",
       "jdbc                                   1\n",
       "capstone/50                            1\n",
       "Name: page_viewed, dtype: int64"
      ]
     },
     "execution_count": 135,
     "metadata": {},
     "output_type": "execute_result"
    }
   ],
   "source": [
    "web_dev_cohorts.loc[~web_dev_cohorts.page_viewed.isin(ds_curriculum)].page_viewed.value_counts().nsmallest(40)"
   ]
  },
  {
   "cell_type": "markdown",
   "metadata": {},
   "source": [
    "Web Development Least Accessed Pages\n",
    "1. appendix/further-reading/pagination                                      \n",
    "1. interview-questions\n",
    "1. javascript-functions\n",
    "1. html-css/positioning                                     \n",
    "1. mysql/clauses/limit-order-by\n",
    "\n",
    "Lesson names were changed for example: java-iii/servelet to java-iii/servelet<strong>s</strong>. Java script control and function modules were accessed the least. Were these modules also renamed? Interview questions page was accessed 1 time. It's an important page now that we're in a remote environment. MySQL limit-order-by was access once. This lesson may have been renamed or included with another module."
   ]
  },
  {
   "cell_type": "code",
   "execution_count": 138,
   "metadata": {},
   "outputs": [
    {
     "data": {
      "text/plain": [
       "grades                                         1\n",
       "appendix/coding-challenges/professional        1\n",
       "database-design                                1\n",
       "regression/appendix-feature-engineering        1\n",
       "11-nlp/pos-tagging                             1\n",
       "4-python/pandas-lesson                         1\n",
       "classification                                 1\n",
       "4.2-compare-means                              1\n",
       "appendix/open_data/www.census.gov              1\n",
       "11-nlp/entity-labeling                         1\n",
       "modern-data-scientist.jpg                      1\n",
       "classification/project-old-exec                1\n",
       "%20https://github.com/RaulCPena                1\n",
       "appendix/open_data/www.opensecrets.org         1\n",
       "classification/svm                             1\n",
       "8-clustering/hierarchical                      1\n",
       "regression/least-angle-regression              1\n",
       "8-clustering/dendogram_sample.jpeg             1\n",
       "search                                         1\n",
       "AI-ML-DL-timeline.jpg                          1\n",
       "A-clustering/project                           1\n",
       "b-clustering/project                           1\n",
       "2-storytelling/1-overview/www.qlik.com         1\n",
       "regression/built-in-datasets                   1\n",
       "9-timeseries/sarimax                           1\n",
       "python/pandas-time-series                      1\n",
       ",%20https://github.com/RaulCPena               1\n",
       "curie-statistics-assessment                    1\n",
       "3-sql                                          1\n",
       "appendix/open_data/www.followthemoney.org      1\n",
       "4-python/handling-duplicate-values             1\n",
       "statistics-assessment                          1\n",
       "11-nlp/topic-modeling                          1\n",
       "stats-assessment                               1\n",
       "appendix/data_science_community                1\n",
       "regression/multivariate-regression-in-excel    1\n",
       "python/error-handling                          1\n",
       "6-regression/8-Project                         1\n",
       "python/type-annotations                        1\n",
       "appendix/www.opensecrets.org                   1\n",
       "Name: page_viewed, dtype: int64"
      ]
     },
     "execution_count": 138,
     "metadata": {},
     "output_type": "execute_result"
    }
   ],
   "source": [
    "ds_cohorts.loc[~ds_cohorts.page_viewed.isin(wd_curriculum)].page_viewed.value_counts().nsmallest(40)"
   ]
  },
  {
   "cell_type": "markdown",
   "metadata": {},
   "source": [
    "Data Science Least Accessed Pages\n",
    "1. appendix/coding-challenges/professional\n",
    "1. regression/appendix-feature-engineering\n",
    "1. regression/built-in-datasets\n",
    "1. 7-classification/confusion-matrix \n",
    "1. python/pandas-time-series\n",
    "1. 9-timeseries/6.2-prophet\n",
    "1. 12-distributed-ml/6.4-prepare-part-4\n",
    "1. 5-detecting-with-clustering\n",
    "\n",
    "The least accessed pages are pages later in a cohort, renamed, or restructured into the current curriculum. Pages in the appendix are rarely viewed."
   ]
  },
  {
   "cell_type": "markdown",
   "metadata": {},
   "source": [
    "# 8. Anything else I should be aware of?"
   ]
  },
  {
   "cell_type": "code",
   "execution_count": 78,
   "metadata": {},
   "outputs": [],
   "source": [
    "# Create datasets filtered by date. Reasoning: Skills that are required may have change slightly in the past\n",
    "# 3 years. These smaller datasets will be able to capture that information.\n",
    "wd_2018_Q1Q2 = web_dev_cohorts['2018-01':'2018-06'].groupby(['date', 'cohort_id', 'cohort_name']).page_viewed.size().to_frame()\n",
    "wd_2018_Q3Q4 = web_dev_cohorts['2018-06':'2018-12'].groupby(['date', 'cohort_id', 'cohort_name']).page_viewed.size().to_frame()\n",
    "wd_2019_Q1Q2 = web_dev_cohorts['2019-01':'2019-06'].groupby(['date', 'cohort_id', 'cohort_name']).page_viewed.size().to_frame()\n",
    "wd_2019_Q3Q4 = web_dev_cohorts['2019-06':'2019-12'].groupby(['date', 'cohort_id', 'cohort_name']).page_viewed.size().to_frame()\n",
    "wd_2020_Q1Q2 = web_dev_cohorts['2020-01':'2020-06'].groupby(['date', 'cohort_id', 'cohort_name']).page_viewed.size().to_frame()\n",
    "wd_2020_Q3Q4 = web_dev_cohorts['2020-06':'2020-12'].groupby(['date', 'cohort_id', 'cohort_name']).page_viewed.size().to_frame()"
   ]
  },
  {
   "cell_type": "markdown",
   "metadata": {},
   "source": [
    "# Appendix"
   ]
  },
  {
   "cell_type": "code",
   "execution_count": 90,
   "metadata": {},
   "outputs": [],
   "source": [
    "df = prep_log_cohort_data(get_log_data(), get_cohort_data())\n",
    "df = df.loc[~(df.cohort_name == 'Staff')]\n",
    "\n",
    "# Step 1.\n",
    "# Web Devlopment Cohorts\n",
    "web_dev_cohorts = df.loc[df.program_id.isin([1, 2, 4])]\n",
    "\n",
    "# Data Science Cohorts\n",
    "ds_cohorts = df.loc[df.program_id == 3]"
   ]
  },
  {
   "cell_type": "code",
   "execution_count": 91,
   "metadata": {},
   "outputs": [
    {
     "data": {
      "text/html": [
       "<div>\n",
       "<style scoped>\n",
       "    .dataframe tbody tr th:only-of-type {\n",
       "        vertical-align: middle;\n",
       "    }\n",
       "\n",
       "    .dataframe tbody tr th {\n",
       "        vertical-align: top;\n",
       "    }\n",
       "\n",
       "    .dataframe thead th {\n",
       "        text-align: right;\n",
       "    }\n",
       "</style>\n",
       "<table border=\"1\" class=\"dataframe\">\n",
       "  <thead>\n",
       "    <tr style=\"text-align: right;\">\n",
       "      <th></th>\n",
       "      <th></th>\n",
       "      <th></th>\n",
       "      <th></th>\n",
       "      <th>num_of_users</th>\n",
       "    </tr>\n",
       "    <tr>\n",
       "      <th>cohort_id</th>\n",
       "      <th>cohort_name</th>\n",
       "      <th>program_start</th>\n",
       "      <th>end_date</th>\n",
       "      <th></th>\n",
       "    </tr>\n",
       "  </thead>\n",
       "  <tbody>\n",
       "    <tr>\n",
       "      <th>1</th>\n",
       "      <th>Arches</th>\n",
       "      <th>2014-02-04</th>\n",
       "      <th>2014-04-22</th>\n",
       "      <td>18</td>\n",
       "    </tr>\n",
       "    <tr>\n",
       "      <th>2</th>\n",
       "      <th>Badlands</th>\n",
       "      <th>2014-06-04</th>\n",
       "      <th>2014-08-22</th>\n",
       "      <td>3</td>\n",
       "    </tr>\n",
       "    <tr>\n",
       "      <th>4</th>\n",
       "      <th>Denali</th>\n",
       "      <th>2014-10-20</th>\n",
       "      <th>2015-01-18</th>\n",
       "      <td>1</td>\n",
       "    </tr>\n",
       "    <tr>\n",
       "      <th>5</th>\n",
       "      <th>Everglades</th>\n",
       "      <th>2014-11-18</th>\n",
       "      <th>2015-02-24</th>\n",
       "      <td>1</td>\n",
       "    </tr>\n",
       "    <tr>\n",
       "      <th>6</th>\n",
       "      <th>Franklin</th>\n",
       "      <th>2015-02-03</th>\n",
       "      <th>2015-05-26</th>\n",
       "      <td>2</td>\n",
       "    </tr>\n",
       "    <tr>\n",
       "      <th>7</th>\n",
       "      <th>Glacier</th>\n",
       "      <th>2015-06-05</th>\n",
       "      <th>2015-10-06</th>\n",
       "      <td>6</td>\n",
       "    </tr>\n",
       "    <tr>\n",
       "      <th>8</th>\n",
       "      <th>Hampton</th>\n",
       "      <th>2015-09-22</th>\n",
       "      <th>2016-02-06</th>\n",
       "      <td>5</td>\n",
       "    </tr>\n",
       "    <tr>\n",
       "      <th>11</th>\n",
       "      <th>Ike</th>\n",
       "      <th>2016-01-20</th>\n",
       "      <th>2016-05-12</th>\n",
       "      <td>5</td>\n",
       "    </tr>\n",
       "    <tr>\n",
       "      <th>12</th>\n",
       "      <th>Joshua</th>\n",
       "      <th>2016-03-08</th>\n",
       "      <th>2016-06-30</th>\n",
       "      <td>5</td>\n",
       "    </tr>\n",
       "    <tr>\n",
       "      <th>13</th>\n",
       "      <th>Kings</th>\n",
       "      <th>2016-05-23</th>\n",
       "      <th>2016-09-15</th>\n",
       "      <td>10</td>\n",
       "    </tr>\n",
       "    <tr>\n",
       "      <th>14</th>\n",
       "      <th>Lassen</th>\n",
       "      <th>2016-07-18</th>\n",
       "      <th>2016-11-10</th>\n",
       "      <td>12</td>\n",
       "    </tr>\n",
       "    <tr>\n",
       "      <th>17</th>\n",
       "      <th>Olympic</th>\n",
       "      <th>2017-02-06</th>\n",
       "      <th>2017-05-25</th>\n",
       "      <td>13</td>\n",
       "    </tr>\n",
       "    <tr>\n",
       "      <th>19</th>\n",
       "      <th>Quincy</th>\n",
       "      <th>2017-06-05</th>\n",
       "      <th>2017-09-22</th>\n",
       "      <td>17</td>\n",
       "    </tr>\n",
       "  </tbody>\n",
       "</table>\n",
       "</div>"
      ],
      "text/plain": [
       "                                                num_of_users\n",
       "cohort_id cohort_name program_start end_date                \n",
       "1         Arches      2014-02-04    2014-04-22            18\n",
       "2         Badlands    2014-06-04    2014-08-22             3\n",
       "4         Denali      2014-10-20    2015-01-18             1\n",
       "5         Everglades  2014-11-18    2015-02-24             1\n",
       "6         Franklin    2015-02-03    2015-05-26             2\n",
       "7         Glacier     2015-06-05    2015-10-06             6\n",
       "8         Hampton     2015-09-22    2016-02-06             5\n",
       "11        Ike         2016-01-20    2016-05-12             5\n",
       "12        Joshua      2016-03-08    2016-06-30             5\n",
       "13        Kings       2016-05-23    2016-09-15            10\n",
       "14        Lassen      2016-07-18    2016-11-10            12\n",
       "17        Olympic     2017-02-06    2017-05-25            13\n",
       "19        Quincy      2017-06-05    2017-09-22            17"
      ]
     },
     "execution_count": 91,
     "metadata": {},
     "output_type": "execute_result"
    }
   ],
   "source": [
    "program_id_1 = web_dev_cohorts.loc[web_dev_cohorts.program_id == 1].groupby(by=['cohort_id',\n",
    "                                     'cohort_name',\n",
    "                                     'program_start',\n",
    "                                     'end_date']\n",
    "                                ).user_id.nunique()\n",
    "\n",
    "program_id_1.to_frame().rename(columns={'user_id': 'num_of_users'})"
   ]
  },
  {
   "cell_type": "code",
   "execution_count": 92,
   "metadata": {},
   "outputs": [
    {
     "data": {
      "text/html": [
       "<div>\n",
       "<style scoped>\n",
       "    .dataframe tbody tr th:only-of-type {\n",
       "        vertical-align: middle;\n",
       "    }\n",
       "\n",
       "    .dataframe tbody tr th {\n",
       "        vertical-align: top;\n",
       "    }\n",
       "\n",
       "    .dataframe thead th {\n",
       "        text-align: right;\n",
       "    }\n",
       "</style>\n",
       "<table border=\"1\" class=\"dataframe\">\n",
       "  <thead>\n",
       "    <tr style=\"text-align: right;\">\n",
       "      <th></th>\n",
       "      <th></th>\n",
       "      <th></th>\n",
       "      <th></th>\n",
       "      <th>num_of_users</th>\n",
       "    </tr>\n",
       "    <tr>\n",
       "      <th>cohort_id</th>\n",
       "      <th>cohort_name</th>\n",
       "      <th>program_start</th>\n",
       "      <th>end_date</th>\n",
       "      <th></th>\n",
       "    </tr>\n",
       "  </thead>\n",
       "  <tbody>\n",
       "    <tr>\n",
       "      <th>15</th>\n",
       "      <th>Mammoth</th>\n",
       "      <th>2016-09-26</th>\n",
       "      <th>2017-02-02</th>\n",
       "      <td>5</td>\n",
       "    </tr>\n",
       "    <tr>\n",
       "      <th>16</th>\n",
       "      <th>Niagara</th>\n",
       "      <th>2016-10-26</th>\n",
       "      <th>2017-03-09</th>\n",
       "      <td>8</td>\n",
       "    </tr>\n",
       "    <tr>\n",
       "      <th>18</th>\n",
       "      <th>Pinnacles</th>\n",
       "      <th>2017-03-27</th>\n",
       "      <th>2017-07-20</th>\n",
       "      <td>14</td>\n",
       "    </tr>\n",
       "    <tr>\n",
       "      <th>21</th>\n",
       "      <th>Sequoia</th>\n",
       "      <th>2017-09-27</th>\n",
       "      <th>2018-02-15</th>\n",
       "      <td>28</td>\n",
       "    </tr>\n",
       "    <tr>\n",
       "      <th>22</th>\n",
       "      <th>Teddy</th>\n",
       "      <th>2018-01-08</th>\n",
       "      <th>2018-05-17</th>\n",
       "      <td>35</td>\n",
       "    </tr>\n",
       "    <tr>\n",
       "      <th>23</th>\n",
       "      <th>Ulysses</th>\n",
       "      <th>2018-03-05</th>\n",
       "      <th>2018-07-19</th>\n",
       "      <td>33</td>\n",
       "    </tr>\n",
       "    <tr>\n",
       "      <th>24</th>\n",
       "      <th>Voyageurs</th>\n",
       "      <th>2018-05-29</th>\n",
       "      <th>2018-10-11</th>\n",
       "      <td>34</td>\n",
       "    </tr>\n",
       "    <tr>\n",
       "      <th>25</th>\n",
       "      <th>Wrangell</th>\n",
       "      <th>2018-07-23</th>\n",
       "      <th>2018-11-29</th>\n",
       "      <td>26</td>\n",
       "    </tr>\n",
       "    <tr>\n",
       "      <th>26</th>\n",
       "      <th>Xanadu</th>\n",
       "      <th>2018-09-17</th>\n",
       "      <th>2019-02-08</th>\n",
       "      <td>20</td>\n",
       "    </tr>\n",
       "    <tr>\n",
       "      <th>27</th>\n",
       "      <th>Yosemite</th>\n",
       "      <th>2018-11-05</th>\n",
       "      <th>2019-04-03</th>\n",
       "      <td>29</td>\n",
       "    </tr>\n",
       "    <tr>\n",
       "      <th>29</th>\n",
       "      <th>Zion</th>\n",
       "      <th>2019-01-22</th>\n",
       "      <th>2019-06-04</th>\n",
       "      <td>25</td>\n",
       "    </tr>\n",
       "    <tr>\n",
       "      <th>31</th>\n",
       "      <th>Andromeda</th>\n",
       "      <th>2019-03-18</th>\n",
       "      <th>2019-07-30</th>\n",
       "      <td>28</td>\n",
       "    </tr>\n",
       "    <tr>\n",
       "      <th>32</th>\n",
       "      <th>Betelgeuse</th>\n",
       "      <th>2019-05-28</th>\n",
       "      <th>2019-10-08</th>\n",
       "      <td>21</td>\n",
       "    </tr>\n",
       "    <tr>\n",
       "      <th>33</th>\n",
       "      <th>Ceres</th>\n",
       "      <th>2019-07-15</th>\n",
       "      <th>2019-12-11</th>\n",
       "      <td>29</td>\n",
       "    </tr>\n",
       "    <tr>\n",
       "      <th>51</th>\n",
       "      <th>Deimos</th>\n",
       "      <th>2019-09-16</th>\n",
       "      <th>2020-02-27</th>\n",
       "      <td>27</td>\n",
       "    </tr>\n",
       "    <tr>\n",
       "      <th>52</th>\n",
       "      <th>Europa</th>\n",
       "      <th>2019-11-04</th>\n",
       "      <th>2020-04-17</th>\n",
       "      <td>28</td>\n",
       "    </tr>\n",
       "    <tr>\n",
       "      <th>53</th>\n",
       "      <th>Fortuna</th>\n",
       "      <th>2020-01-13</th>\n",
       "      <th>2020-06-23</th>\n",
       "      <td>28</td>\n",
       "    </tr>\n",
       "    <tr>\n",
       "      <th>56</th>\n",
       "      <th>Apex</th>\n",
       "      <th>2020-02-24</th>\n",
       "      <th>2020-07-29</th>\n",
       "      <td>23</td>\n",
       "    </tr>\n",
       "    <tr>\n",
       "      <th>57</th>\n",
       "      <th>Ganymede</th>\n",
       "      <th>2020-03-23</th>\n",
       "      <th>2020-08-20</th>\n",
       "      <td>28</td>\n",
       "    </tr>\n",
       "    <tr>\n",
       "      <th>58</th>\n",
       "      <th>Hyperion</th>\n",
       "      <th>2020-05-26</th>\n",
       "      <th>2020-11-10</th>\n",
       "      <td>22</td>\n",
       "    </tr>\n",
       "    <tr>\n",
       "      <th>61</th>\n",
       "      <th>Bash</th>\n",
       "      <th>2020-07-20</th>\n",
       "      <th>2021-01-21</th>\n",
       "      <td>22</td>\n",
       "    </tr>\n",
       "    <tr>\n",
       "      <th>62</th>\n",
       "      <th>Jupiter</th>\n",
       "      <th>2020-09-21</th>\n",
       "      <th>2021-03-30</th>\n",
       "      <td>29</td>\n",
       "    </tr>\n",
       "  </tbody>\n",
       "</table>\n",
       "</div>"
      ],
      "text/plain": [
       "                                                num_of_users\n",
       "cohort_id cohort_name program_start end_date                \n",
       "15        Mammoth     2016-09-26    2017-02-02             5\n",
       "16        Niagara     2016-10-26    2017-03-09             8\n",
       "18        Pinnacles   2017-03-27    2017-07-20            14\n",
       "21        Sequoia     2017-09-27    2018-02-15            28\n",
       "22        Teddy       2018-01-08    2018-05-17            35\n",
       "23        Ulysses     2018-03-05    2018-07-19            33\n",
       "24        Voyageurs   2018-05-29    2018-10-11            34\n",
       "25        Wrangell    2018-07-23    2018-11-29            26\n",
       "26        Xanadu      2018-09-17    2019-02-08            20\n",
       "27        Yosemite    2018-11-05    2019-04-03            29\n",
       "29        Zion        2019-01-22    2019-06-04            25\n",
       "31        Andromeda   2019-03-18    2019-07-30            28\n",
       "32        Betelgeuse  2019-05-28    2019-10-08            21\n",
       "33        Ceres       2019-07-15    2019-12-11            29\n",
       "51        Deimos      2019-09-16    2020-02-27            27\n",
       "52        Europa      2019-11-04    2020-04-17            28\n",
       "53        Fortuna     2020-01-13    2020-06-23            28\n",
       "56        Apex        2020-02-24    2020-07-29            23\n",
       "57        Ganymede    2020-03-23    2020-08-20            28\n",
       "58        Hyperion    2020-05-26    2020-11-10            22\n",
       "61        Bash        2020-07-20    2021-01-21            22\n",
       "62        Jupiter     2020-09-21    2021-03-30            29"
      ]
     },
     "execution_count": 92,
     "metadata": {},
     "output_type": "execute_result"
    }
   ],
   "source": [
    "program_id_2 = web_dev_cohorts.loc[web_dev_cohorts.program_id == 2].groupby(by=['cohort_id',\n",
    "                                     'cohort_name',\n",
    "                                     'program_start',\n",
    "                                     'end_date']\n",
    "                                ).user_id.nunique()\n",
    "\n",
    "program_id_2.to_frame().rename(columns={'user_id': 'num_of_users'})"
   ]
  },
  {
   "cell_type": "code",
   "execution_count": 93,
   "metadata": {},
   "outputs": [
    {
     "data": {
      "text/html": [
       "<div>\n",
       "<style scoped>\n",
       "    .dataframe tbody tr th:only-of-type {\n",
       "        vertical-align: middle;\n",
       "    }\n",
       "\n",
       "    .dataframe tbody tr th {\n",
       "        vertical-align: top;\n",
       "    }\n",
       "\n",
       "    .dataframe thead th {\n",
       "        text-align: right;\n",
       "    }\n",
       "</style>\n",
       "<table border=\"1\" class=\"dataframe\">\n",
       "  <thead>\n",
       "    <tr style=\"text-align: right;\">\n",
       "      <th></th>\n",
       "      <th></th>\n",
       "      <th></th>\n",
       "      <th></th>\n",
       "      <th>num_of_users</th>\n",
       "    </tr>\n",
       "    <tr>\n",
       "      <th>cohort_id</th>\n",
       "      <th>cohort_name</th>\n",
       "      <th>program_start</th>\n",
       "      <th>end_date</th>\n",
       "      <th></th>\n",
       "    </tr>\n",
       "  </thead>\n",
       "  <tbody>\n",
       "    <tr>\n",
       "      <th>9</th>\n",
       "      <th>Apollo</th>\n",
       "      <th>2015-03-30</th>\n",
       "      <th>2015-07-29</th>\n",
       "      <td>1</td>\n",
       "    </tr>\n",
       "  </tbody>\n",
       "</table>\n",
       "</div>"
      ],
      "text/plain": [
       "                                                num_of_users\n",
       "cohort_id cohort_name program_start end_date                \n",
       "9         Apollo      2015-03-30    2015-07-29             1"
      ]
     },
     "execution_count": 93,
     "metadata": {},
     "output_type": "execute_result"
    }
   ],
   "source": [
    "program_id_4 = web_dev_cohorts.loc[web_dev_cohorts.program_id == 4].groupby(by=['cohort_id',\n",
    "                                     'cohort_name',\n",
    "                                     'program_start',\n",
    "                                     'end_date']\n",
    "                                ).user_id.nunique()\n",
    "\n",
    "program_id_4.to_frame().rename(columns={'user_id': 'num_of_users'})"
   ]
  },
  {
   "cell_type": "code",
   "execution_count": 94,
   "metadata": {},
   "outputs": [
    {
     "data": {
      "text/html": [
       "<div>\n",
       "<style scoped>\n",
       "    .dataframe tbody tr th:only-of-type {\n",
       "        vertical-align: middle;\n",
       "    }\n",
       "\n",
       "    .dataframe tbody tr th {\n",
       "        vertical-align: top;\n",
       "    }\n",
       "\n",
       "    .dataframe thead th {\n",
       "        text-align: right;\n",
       "    }\n",
       "</style>\n",
       "<table border=\"1\" class=\"dataframe\">\n",
       "  <thead>\n",
       "    <tr style=\"text-align: right;\">\n",
       "      <th></th>\n",
       "      <th></th>\n",
       "      <th></th>\n",
       "      <th></th>\n",
       "      <th>num_of_users</th>\n",
       "    </tr>\n",
       "    <tr>\n",
       "      <th>cohort_id</th>\n",
       "      <th>cohort_name</th>\n",
       "      <th>program_start</th>\n",
       "      <th>end_date</th>\n",
       "      <th></th>\n",
       "    </tr>\n",
       "  </thead>\n",
       "  <tbody>\n",
       "    <tr>\n",
       "      <th>1</th>\n",
       "      <th>Arches</th>\n",
       "      <th>2014-02-04</th>\n",
       "      <th>2014-04-22</th>\n",
       "      <td>18</td>\n",
       "    </tr>\n",
       "    <tr>\n",
       "      <th>2</th>\n",
       "      <th>Badlands</th>\n",
       "      <th>2014-06-04</th>\n",
       "      <th>2014-08-22</th>\n",
       "      <td>3</td>\n",
       "    </tr>\n",
       "    <tr>\n",
       "      <th>4</th>\n",
       "      <th>Denali</th>\n",
       "      <th>2014-10-20</th>\n",
       "      <th>2015-01-18</th>\n",
       "      <td>1</td>\n",
       "    </tr>\n",
       "    <tr>\n",
       "      <th>5</th>\n",
       "      <th>Everglades</th>\n",
       "      <th>2014-11-18</th>\n",
       "      <th>2015-02-24</th>\n",
       "      <td>1</td>\n",
       "    </tr>\n",
       "    <tr>\n",
       "      <th>6</th>\n",
       "      <th>Franklin</th>\n",
       "      <th>2015-02-03</th>\n",
       "      <th>2015-05-26</th>\n",
       "      <td>2</td>\n",
       "    </tr>\n",
       "    <tr>\n",
       "      <th>7</th>\n",
       "      <th>Glacier</th>\n",
       "      <th>2015-06-05</th>\n",
       "      <th>2015-10-06</th>\n",
       "      <td>6</td>\n",
       "    </tr>\n",
       "    <tr>\n",
       "      <th>8</th>\n",
       "      <th>Hampton</th>\n",
       "      <th>2015-09-22</th>\n",
       "      <th>2016-02-06</th>\n",
       "      <td>5</td>\n",
       "    </tr>\n",
       "    <tr>\n",
       "      <th>9</th>\n",
       "      <th>Apollo</th>\n",
       "      <th>2015-03-30</th>\n",
       "      <th>2015-07-29</th>\n",
       "      <td>1</td>\n",
       "    </tr>\n",
       "    <tr>\n",
       "      <th>11</th>\n",
       "      <th>Ike</th>\n",
       "      <th>2016-01-20</th>\n",
       "      <th>2016-05-12</th>\n",
       "      <td>5</td>\n",
       "    </tr>\n",
       "    <tr>\n",
       "      <th>12</th>\n",
       "      <th>Joshua</th>\n",
       "      <th>2016-03-08</th>\n",
       "      <th>2016-06-30</th>\n",
       "      <td>5</td>\n",
       "    </tr>\n",
       "    <tr>\n",
       "      <th>13</th>\n",
       "      <th>Kings</th>\n",
       "      <th>2016-05-23</th>\n",
       "      <th>2016-09-15</th>\n",
       "      <td>10</td>\n",
       "    </tr>\n",
       "    <tr>\n",
       "      <th>14</th>\n",
       "      <th>Lassen</th>\n",
       "      <th>2016-07-18</th>\n",
       "      <th>2016-11-10</th>\n",
       "      <td>12</td>\n",
       "    </tr>\n",
       "    <tr>\n",
       "      <th>15</th>\n",
       "      <th>Mammoth</th>\n",
       "      <th>2016-09-26</th>\n",
       "      <th>2017-02-02</th>\n",
       "      <td>5</td>\n",
       "    </tr>\n",
       "    <tr>\n",
       "      <th>16</th>\n",
       "      <th>Niagara</th>\n",
       "      <th>2016-10-26</th>\n",
       "      <th>2017-03-09</th>\n",
       "      <td>8</td>\n",
       "    </tr>\n",
       "    <tr>\n",
       "      <th>17</th>\n",
       "      <th>Olympic</th>\n",
       "      <th>2017-02-06</th>\n",
       "      <th>2017-05-25</th>\n",
       "      <td>13</td>\n",
       "    </tr>\n",
       "    <tr>\n",
       "      <th>18</th>\n",
       "      <th>Pinnacles</th>\n",
       "      <th>2017-03-27</th>\n",
       "      <th>2017-07-20</th>\n",
       "      <td>14</td>\n",
       "    </tr>\n",
       "    <tr>\n",
       "      <th>19</th>\n",
       "      <th>Quincy</th>\n",
       "      <th>2017-06-05</th>\n",
       "      <th>2017-09-22</th>\n",
       "      <td>17</td>\n",
       "    </tr>\n",
       "    <tr>\n",
       "      <th>21</th>\n",
       "      <th>Sequoia</th>\n",
       "      <th>2017-09-27</th>\n",
       "      <th>2018-02-15</th>\n",
       "      <td>28</td>\n",
       "    </tr>\n",
       "    <tr>\n",
       "      <th>22</th>\n",
       "      <th>Teddy</th>\n",
       "      <th>2018-01-08</th>\n",
       "      <th>2018-05-17</th>\n",
       "      <td>35</td>\n",
       "    </tr>\n",
       "    <tr>\n",
       "      <th>23</th>\n",
       "      <th>Ulysses</th>\n",
       "      <th>2018-03-05</th>\n",
       "      <th>2018-07-19</th>\n",
       "      <td>33</td>\n",
       "    </tr>\n",
       "    <tr>\n",
       "      <th>24</th>\n",
       "      <th>Voyageurs</th>\n",
       "      <th>2018-05-29</th>\n",
       "      <th>2018-10-11</th>\n",
       "      <td>34</td>\n",
       "    </tr>\n",
       "    <tr>\n",
       "      <th>25</th>\n",
       "      <th>Wrangell</th>\n",
       "      <th>2018-07-23</th>\n",
       "      <th>2018-11-29</th>\n",
       "      <td>26</td>\n",
       "    </tr>\n",
       "    <tr>\n",
       "      <th>26</th>\n",
       "      <th>Xanadu</th>\n",
       "      <th>2018-09-17</th>\n",
       "      <th>2019-02-08</th>\n",
       "      <td>20</td>\n",
       "    </tr>\n",
       "    <tr>\n",
       "      <th>27</th>\n",
       "      <th>Yosemite</th>\n",
       "      <th>2018-11-05</th>\n",
       "      <th>2019-04-03</th>\n",
       "      <td>29</td>\n",
       "    </tr>\n",
       "    <tr>\n",
       "      <th>29</th>\n",
       "      <th>Zion</th>\n",
       "      <th>2019-01-22</th>\n",
       "      <th>2019-06-04</th>\n",
       "      <td>25</td>\n",
       "    </tr>\n",
       "    <tr>\n",
       "      <th>31</th>\n",
       "      <th>Andromeda</th>\n",
       "      <th>2019-03-18</th>\n",
       "      <th>2019-07-30</th>\n",
       "      <td>28</td>\n",
       "    </tr>\n",
       "    <tr>\n",
       "      <th>32</th>\n",
       "      <th>Betelgeuse</th>\n",
       "      <th>2019-05-28</th>\n",
       "      <th>2019-10-08</th>\n",
       "      <td>21</td>\n",
       "    </tr>\n",
       "    <tr>\n",
       "      <th>33</th>\n",
       "      <th>Ceres</th>\n",
       "      <th>2019-07-15</th>\n",
       "      <th>2019-12-11</th>\n",
       "      <td>29</td>\n",
       "    </tr>\n",
       "    <tr>\n",
       "      <th>51</th>\n",
       "      <th>Deimos</th>\n",
       "      <th>2019-09-16</th>\n",
       "      <th>2020-02-27</th>\n",
       "      <td>27</td>\n",
       "    </tr>\n",
       "    <tr>\n",
       "      <th>52</th>\n",
       "      <th>Europa</th>\n",
       "      <th>2019-11-04</th>\n",
       "      <th>2020-04-17</th>\n",
       "      <td>28</td>\n",
       "    </tr>\n",
       "    <tr>\n",
       "      <th>53</th>\n",
       "      <th>Fortuna</th>\n",
       "      <th>2020-01-13</th>\n",
       "      <th>2020-06-23</th>\n",
       "      <td>28</td>\n",
       "    </tr>\n",
       "    <tr>\n",
       "      <th>56</th>\n",
       "      <th>Apex</th>\n",
       "      <th>2020-02-24</th>\n",
       "      <th>2020-07-29</th>\n",
       "      <td>23</td>\n",
       "    </tr>\n",
       "    <tr>\n",
       "      <th>57</th>\n",
       "      <th>Ganymede</th>\n",
       "      <th>2020-03-23</th>\n",
       "      <th>2020-08-20</th>\n",
       "      <td>28</td>\n",
       "    </tr>\n",
       "    <tr>\n",
       "      <th>58</th>\n",
       "      <th>Hyperion</th>\n",
       "      <th>2020-05-26</th>\n",
       "      <th>2020-11-10</th>\n",
       "      <td>22</td>\n",
       "    </tr>\n",
       "    <tr>\n",
       "      <th>61</th>\n",
       "      <th>Bash</th>\n",
       "      <th>2020-07-20</th>\n",
       "      <th>2021-01-21</th>\n",
       "      <td>22</td>\n",
       "    </tr>\n",
       "    <tr>\n",
       "      <th>62</th>\n",
       "      <th>Jupiter</th>\n",
       "      <th>2020-09-21</th>\n",
       "      <th>2021-03-30</th>\n",
       "      <td>29</td>\n",
       "    </tr>\n",
       "  </tbody>\n",
       "</table>\n",
       "</div>"
      ],
      "text/plain": [
       "                                                num_of_users\n",
       "cohort_id cohort_name program_start end_date                \n",
       "1         Arches      2014-02-04    2014-04-22            18\n",
       "2         Badlands    2014-06-04    2014-08-22             3\n",
       "4         Denali      2014-10-20    2015-01-18             1\n",
       "5         Everglades  2014-11-18    2015-02-24             1\n",
       "6         Franklin    2015-02-03    2015-05-26             2\n",
       "7         Glacier     2015-06-05    2015-10-06             6\n",
       "8         Hampton     2015-09-22    2016-02-06             5\n",
       "9         Apollo      2015-03-30    2015-07-29             1\n",
       "11        Ike         2016-01-20    2016-05-12             5\n",
       "12        Joshua      2016-03-08    2016-06-30             5\n",
       "13        Kings       2016-05-23    2016-09-15            10\n",
       "14        Lassen      2016-07-18    2016-11-10            12\n",
       "15        Mammoth     2016-09-26    2017-02-02             5\n",
       "16        Niagara     2016-10-26    2017-03-09             8\n",
       "17        Olympic     2017-02-06    2017-05-25            13\n",
       "18        Pinnacles   2017-03-27    2017-07-20            14\n",
       "19        Quincy      2017-06-05    2017-09-22            17\n",
       "21        Sequoia     2017-09-27    2018-02-15            28\n",
       "22        Teddy       2018-01-08    2018-05-17            35\n",
       "23        Ulysses     2018-03-05    2018-07-19            33\n",
       "24        Voyageurs   2018-05-29    2018-10-11            34\n",
       "25        Wrangell    2018-07-23    2018-11-29            26\n",
       "26        Xanadu      2018-09-17    2019-02-08            20\n",
       "27        Yosemite    2018-11-05    2019-04-03            29\n",
       "29        Zion        2019-01-22    2019-06-04            25\n",
       "31        Andromeda   2019-03-18    2019-07-30            28\n",
       "32        Betelgeuse  2019-05-28    2019-10-08            21\n",
       "33        Ceres       2019-07-15    2019-12-11            29\n",
       "51        Deimos      2019-09-16    2020-02-27            27\n",
       "52        Europa      2019-11-04    2020-04-17            28\n",
       "53        Fortuna     2020-01-13    2020-06-23            28\n",
       "56        Apex        2020-02-24    2020-07-29            23\n",
       "57        Ganymede    2020-03-23    2020-08-20            28\n",
       "58        Hyperion    2020-05-26    2020-11-10            22\n",
       "61        Bash        2020-07-20    2021-01-21            22\n",
       "62        Jupiter     2020-09-21    2021-03-30            29"
      ]
     },
     "execution_count": 94,
     "metadata": {},
     "output_type": "execute_result"
    }
   ],
   "source": [
    "# Unique user id's per Web Dev cohort. Infered as number of students.\n",
    "wd_students_per_cohort = web_dev_cohorts\\\n",
    "                        .groupby(by=['cohort_id',\n",
    "                                     'cohort_name',\n",
    "                                     'program_start',\n",
    "                                     'end_date']\n",
    "                                ).user_id.nunique()\n",
    "wd_students_per_cohort.to_frame().rename(columns={'user_id': 'num_of_users'})"
   ]
  },
  {
   "cell_type": "code",
   "execution_count": 95,
   "metadata": {},
   "outputs": [
    {
     "data": {
      "text/html": [
       "<div>\n",
       "<style scoped>\n",
       "    .dataframe tbody tr th:only-of-type {\n",
       "        vertical-align: middle;\n",
       "    }\n",
       "\n",
       "    .dataframe tbody tr th {\n",
       "        vertical-align: top;\n",
       "    }\n",
       "\n",
       "    .dataframe thead th {\n",
       "        text-align: right;\n",
       "    }\n",
       "</style>\n",
       "<table border=\"1\" class=\"dataframe\">\n",
       "  <thead>\n",
       "    <tr style=\"text-align: right;\">\n",
       "      <th></th>\n",
       "      <th></th>\n",
       "      <th></th>\n",
       "      <th></th>\n",
       "      <th>num_of_users</th>\n",
       "    </tr>\n",
       "    <tr>\n",
       "      <th>cohort_id</th>\n",
       "      <th>cohort_name</th>\n",
       "      <th>program_start</th>\n",
       "      <th>end_date</th>\n",
       "      <th></th>\n",
       "    </tr>\n",
       "  </thead>\n",
       "  <tbody>\n",
       "    <tr>\n",
       "      <th>34</th>\n",
       "      <th>Bayes</th>\n",
       "      <th>2019-08-19</th>\n",
       "      <th>2020-01-30</th>\n",
       "      <td>23</td>\n",
       "    </tr>\n",
       "    <tr>\n",
       "      <th>55</th>\n",
       "      <th>Curie</th>\n",
       "      <th>2020-02-03</th>\n",
       "      <th>2020-07-07</th>\n",
       "      <td>21</td>\n",
       "    </tr>\n",
       "    <tr>\n",
       "      <th>59</th>\n",
       "      <th>Darden</th>\n",
       "      <th>2020-07-13</th>\n",
       "      <th>2021-01-12</th>\n",
       "      <td>28</td>\n",
       "    </tr>\n",
       "  </tbody>\n",
       "</table>\n",
       "</div>"
      ],
      "text/plain": [
       "                                                num_of_users\n",
       "cohort_id cohort_name program_start end_date                \n",
       "34        Bayes       2019-08-19    2020-01-30            23\n",
       "55        Curie       2020-02-03    2020-07-07            21\n",
       "59        Darden      2020-07-13    2021-01-12            28"
      ]
     },
     "execution_count": 95,
     "metadata": {},
     "output_type": "execute_result"
    }
   ],
   "source": [
    "ds_students_per_cohort = ds_cohorts\\\n",
    "                        .groupby(by=['cohort_id',\n",
    "                                     'cohort_name',\n",
    "                                     'program_start',\n",
    "                                     'end_date']\n",
    "                                ).user_id.nunique()\n",
    "ds_students_per_cohort.to_frame().rename(columns={'user_id': 'num_of_users'})"
   ]
  }
 ],
 "metadata": {
  "kernelspec": {
   "display_name": "Python 3",
   "language": "python",
   "name": "python3"
  },
  "language_info": {
   "codemirror_mode": {
    "name": "ipython",
    "version": 3
   },
   "file_extension": ".py",
   "mimetype": "text/x-python",
   "name": "python",
   "nbconvert_exporter": "python",
   "pygments_lexer": "ipython3",
   "version": "3.7.6"
  }
 },
 "nbformat": 4,
 "nbformat_minor": 4
}
